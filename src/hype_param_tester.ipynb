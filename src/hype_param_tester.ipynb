{
 "cells": [
  {
   "cell_type": "code",
   "execution_count": 1,
   "metadata": {},
   "outputs": [],
   "source": [
    "## interactive plot\n",
    "import plotly\n",
    "import plotly.express as px\n",
    "from plotly.subplots import make_subplots\n",
    "import plotly.graph_objects as go"
   ]
  },
  {
   "cell_type": "code",
   "execution_count": 2,
   "metadata": {},
   "outputs": [],
   "source": [
    "## std plots\n",
    "import matplotlib.pyplot as plt\n",
    "import seaborn as sns\n",
    "sns.set_style(\"darkgrid\")    "
   ]
  },
  {
   "cell_type": "code",
   "execution_count": 3,
   "metadata": {},
   "outputs": [],
   "source": [
    "## model, data\n",
    "import numpy as np\n",
    "import torch\n",
    "import torch.nn as nn\n",
    "import pandas as pd\n",
    "import math, time\n",
    "from sklearn.metrics import mean_squared_error\n",
    "from tqdm import tqdm\n",
    "import joblib\n",
    "from torch.utils.data import DataLoader, random_split\n",
    "from sklearn.preprocessing import MinMaxScaler \n",
    "from datetime import timedelta\n",
    "import mlflow\n",
    "from itertools import permutations\n",
    "mlflow.set_tracking_uri(\"https://mlflow.internal.gaivota.ai/\")\n",
    "from sklearn.metrics import mean_squared_error"
   ]
  },
  {
   "cell_type": "code",
   "execution_count": 4,
   "metadata": {},
   "outputs": [],
   "source": [
    "from lstm.lstm_model import LSTM, BILSTM\n",
    "from data.dataset import PriceDataset, price_to_per\n",
    "from util.metrics import *\n",
    "from util.learner import Trainer, Tester"
   ]
  },
  {
   "cell_type": "code",
   "execution_count": 5,
   "metadata": {},
   "outputs": [],
   "source": [
    "from util.losses import MCFD"
   ]
  },
  {
   "cell_type": "markdown",
   "metadata": {},
   "source": [
    "## Config"
   ]
  },
  {
   "cell_type": "code",
   "execution_count": 6,
   "metadata": {},
   "outputs": [],
   "source": [
    "# save config for mlflow\n",
    "config = {\n",
    "    'lookback':60,\n",
    "    'lookforward':20,\n",
    "    'input_dim':4,\n",
    "    'hidden_dim':32,\n",
    "    'num_layers':2,\n",
    "    'output_dim':4,\n",
    "    'num_epochs':25,\n",
    "    'learn_rate':0.0001,\n",
    "    'name':'lstm_v0',\n",
    "    'batch_size': 60,\n",
    "    'bidirectional': False,\n",
    "    'train_dataset':'soybean_price_1990to2019.csv',\n",
    "    'test_dataset':'soybean_price_2020.csv',\n",
    "    'loss': 'MSE'\n",
    "}\n",
    "\n",
    "DATASET_PATH = \"../data/soybean_price_1990to2019.csv\"\n",
    "DATASET_TEST_PATH = \"../data/soybean_price_2020.csv\"\n",
    "MODEL_PATH = '../models/'\n",
    "PIPELINE_PATH = '../pipelines/'"
   ]
  },
  {
   "cell_type": "code",
   "execution_count": 7,
   "metadata": {},
   "outputs": [],
   "source": [
    "hidden_layers = [8,16,32]\n",
    "bidirectional = [True,False]\n",
    "base = [5, 10, 20, 30, 40 , 50 , 60]\n",
    "hyper_param = []\n",
    "for per in permutations(base, 2):\n",
    "    if per[0] >= per[1]:\n",
    "        hyper_param.append([per[0], per[1]])\n",
    "for item in base:\n",
    "    hyper_param.append([item, item])\n",
    "# ARIMA SETTING\n",
    "hyper_param.append([4,2])\n",
    "\n",
    "# Sorting\n",
    "def sqdist(vector):\n",
    "    return sum(x*x for x in vector)\n",
    "hyper_param.sort(key=sqdist)"
   ]
  },
  {
   "cell_type": "markdown",
   "metadata": {},
   "source": [
    "## Load bases"
   ]
  },
  {
   "cell_type": "code",
   "execution_count": 8,
   "metadata": {},
   "outputs": [],
   "source": [
    "df_prices = pd.read_csv(DATASET_PATH)\n",
    "df_prices['Date'] = pd.to_datetime(df_prices['Date'] , format='%Y-%m-%d' )"
   ]
  },
  {
   "cell_type": "code",
   "execution_count": 9,
   "metadata": {},
   "outputs": [],
   "source": [
    "df_prices_test = pd.read_csv(DATASET_TEST_PATH)\n",
    "df_prices_test['Date'] = pd.to_datetime(df_prices_test['Date'] , format='%Y-%m-%d' )\n",
    "df_prices_test['week'] = df_prices_test['Date'].dt.weekday"
   ]
  },
  {
   "cell_type": "markdown",
   "metadata": {},
   "source": [
    "## Function Train"
   ]
  },
  {
   "cell_type": "code",
   "execution_count": 10,
   "metadata": {},
   "outputs": [],
   "source": [
    "allowed_dates = df_prices_test['Date'].dt.date.values.tolist()\n",
    "weekends_dates = df_prices_test.query('week >= 5')['Date'].dt.date.values.tolist()"
   ]
  },
  {
   "cell_type": "code",
   "execution_count": 11,
   "metadata": {},
   "outputs": [],
   "source": [
    "def date_by_adding_business_days(from_date, add_days,holidays, allowed_dates, weekends_dates):\n",
    "    business_days_to_add = add_days\n",
    "    current_date = from_date\n",
    "    while business_days_to_add > 0:\n",
    "        current_date += timedelta(days=1)\n",
    "        weekday = current_date.weekday()\n",
    "        if weekday >= 5: # sunday = 6\n",
    "            if not (current_date in weekends_dates):\n",
    "                continue\n",
    "        elif current_date in holidays:\n",
    "            continue\n",
    "        elif not (current_date in allowed_dates):\n",
    "            continue\n",
    "        business_days_to_add -= 1\n",
    "    return current_date"
   ]
  },
  {
   "cell_type": "code",
   "execution_count": 12,
   "metadata": {},
   "outputs": [],
   "source": [
    "def preprare_val_data(model, scaler, val_data, allowed_dates,config, weekends_dates):\n",
    "    res = pd.DataFrame()\n",
    "    \n",
    "    for item in val_data:\n",
    "        with torch.no_grad():\n",
    "            temp = model(item['x']).detach().numpy()\n",
    "            for n in range(len(temp)):\n",
    "                res_temp = pd.DataFrame(scaler.inverse_transform(temp[n]), columns = ['Open','High','Low','Close'])\n",
    "                start_date = [date_by_adding_business_days(pd.to_datetime(item['date'][n], format =  '%Y-%m-%d'), config['lookback'], [], allowed_dates, weekends_dates)]\n",
    "                for c in range(1,config['lookforward']):\n",
    "                    start_date.append(date_by_adding_business_days(start_date[0], c, [], allowed_dates, weekends_dates))\n",
    "                res_temp['Date'] = start_date\n",
    "                res = pd.concat([res,res_temp ])\n",
    "    return res"
   ]
  },
  {
   "cell_type": "code",
   "execution_count": 13,
   "metadata": {},
   "outputs": [],
   "source": [
    "def train(df_dataset, config, prop = 0.2):\n",
    "    # Init Model\n",
    "    if config['bidirectional']:\n",
    "        model = BILSTM(input_dim = config['input_dim'], \n",
    "                       hidden_dim = config['hidden_dim'], \n",
    "                       output_dim = config['output_dim'], \n",
    "                       num_layers = config['num_layers'], \n",
    "                       lookforward = config['lookforward'],\n",
    "                       bidirectional = config['bidirectional'])\n",
    "    else:\n",
    "        model = LSTM(input_dim = config['input_dim'], \n",
    "                     hidden_dim = config['hidden_dim'], \n",
    "                     output_dim = config['output_dim'], \n",
    "                     num_layers = config['num_layers'], \n",
    "                     lookforward = config['lookforward'],\n",
    "                     bidirectional = config['bidirectional'])\n",
    "    #criterion = MCFD()\n",
    "    criterion = torch.nn.MSELoss(reduction = 'mean')\n",
    "    optimizer = torch.optim.Adam(model.parameters(), lr = config['learn_rate'])\n",
    "    \n",
    "    # Prepare Dataset\n",
    "    scaler = MinMaxScaler((-1,1))\n",
    "    df_dataset_temp = pd.DataFrame(scaler.fit_transform(df_dataset[['Open', 'Close', 'High', 'Low']].values), columns = ['Open', 'Close', 'High', 'Low'])\n",
    "    df_dataset_temp['Date'] = df_dataset['Date']\n",
    "    \n",
    "    allowed_dates = df_dataset_temp['Date'].dt.date.values.tolist()\n",
    "    dataset = PriceDataset(df_dataset_temp, lookback = config['lookback'], lookforward = config['lookforward'])\n",
    "    n_val = int(len(dataset) * prop)\n",
    "    n_train = len(dataset) - n_val\n",
    "    train_ds, val_ds = random_split(dataset, [n_train, n_val])\n",
    "\n",
    "    trainer_loader = DataLoader(train_ds, batch_size=config['batch_size'], shuffle=False,  num_workers = 1)\n",
    "    valider_loader = DataLoader(val_ds,   batch_size=config['batch_size'], shuffle=False,  num_workers = 1)\n",
    "\n",
    "    val_parts = int(len(val_ds)/config['batch_size'])\n",
    "    # train\n",
    "    hist_train = np.zeros(config['num_epochs'])\n",
    "    hist_val = np.zeros(config['num_epochs'])\n",
    "    start_time = time.time()\n",
    "\n",
    "    # Init Learner\n",
    "    train_config = {\n",
    "        'epochs': config['num_epochs'],\n",
    "        'batch_size': config['batch_size'],\n",
    "        'learning_rate': config['learn_rate'],\n",
    "        'optimizer': optimizer,\n",
    "        'criterion': criterion,\n",
    "        'data_loader': trainer_loader}\n",
    "    \n",
    "    val_config = {\n",
    "        'epochs': config['num_epochs'],\n",
    "        'batch_size': config['batch_size'],\n",
    "        'learning_rate': config['learn_rate'],\n",
    "        'optimizer': optimizer,\n",
    "        'criterion': criterion,\n",
    "        'data_loader': valider_loader}\n",
    "\n",
    "\n",
    "    trainer = Trainer(model, train_config)\n",
    "    validater = Tester(model, val_config)\n",
    "\n",
    "    for t in tqdm(range(config['num_epochs'])):\n",
    "        hist_train[t] = trainer.run_epoch()\n",
    "        hist_val[t] = validater.run_epoch()\n",
    "\n",
    "    training_time = time.time()-start_time\n",
    "    print(\"\")\n",
    "    print(\"MSE: \", hist_val[-1])\n",
    "    print(\"Training time: {}\".format(training_time))\n",
    "   \n",
    "    return model, scaler, hist_train, hist_val, valider_loader"
   ]
  },
  {
   "cell_type": "markdown",
   "metadata": {},
   "source": [
    "## Multi trainer"
   ]
  },
  {
   "cell_type": "code",
   "execution_count": 14,
   "metadata": {},
   "outputs": [],
   "source": [
    "result = pd.DataFrame()\n",
    "mlflow_active = True"
   ]
  },
  {
   "cell_type": "code",
   "execution_count": 15,
   "metadata": {},
   "outputs": [
    {
     "name": "stderr",
     "output_type": "stream",
     "text": [
      "100%|██████████| 25/25 [00:08<00:00,  2.88it/s]"
     ]
    },
    {
     "name": "stdout",
     "output_type": "stream",
     "text": [
      "\n",
      "MSE:  0.0054918884550436186\n",
      "Training time: 8.696808338165283\n"
     ]
    },
    {
     "name": "stderr",
     "output_type": "stream",
     "text": [
      "\n"
     ]
    },
    {
     "name": "stdout",
     "output_type": "stream",
     "text": [
      "metrics - mlflow\n",
      "lstm_4_for_2_8_hidden_layers_bi_True: {'Open': 12.14, 'High': 4.79, 'Low': 5.16, 'Close': 5.39} - {'Open': 56.52, 'High': 50.99, 'Low': 50.99, 'Close': 49.01}\n",
      "--------------------------------------------------------------------------------\n"
     ]
    },
    {
     "name": "stderr",
     "output_type": "stream",
     "text": [
      "100%|██████████| 25/25 [00:06<00:00,  3.58it/s]"
     ]
    },
    {
     "name": "stdout",
     "output_type": "stream",
     "text": [
      "\n",
      "MSE:  0.012270709302706214\n",
      "Training time: 6.993438720703125\n"
     ]
    },
    {
     "name": "stderr",
     "output_type": "stream",
     "text": [
      "\n"
     ]
    },
    {
     "name": "stdout",
     "output_type": "stream",
     "text": [
      "metrics - mlflow\n",
      "lstm_4_for_2_8_hidden_layers_bi_False: {'Open': 3.17, 'High': 4.19, 'Low': 3.04, 'Close': 4.81} - {'Open': 49.8, 'High': 47.83, 'Low': 50.99, 'Close': 50.2}\n",
      "--------------------------------------------------------------------------------\n"
     ]
    },
    {
     "name": "stderr",
     "output_type": "stream",
     "text": [
      "100%|██████████| 25/25 [00:08<00:00,  2.81it/s]"
     ]
    },
    {
     "name": "stdout",
     "output_type": "stream",
     "text": [
      "\n",
      "MSE:  0.0017183923605793656\n",
      "Training time: 8.886279821395874\n"
     ]
    },
    {
     "name": "stderr",
     "output_type": "stream",
     "text": [
      "\n"
     ]
    },
    {
     "name": "stdout",
     "output_type": "stream",
     "text": [
      "metrics - mlflow\n",
      "lstm_4_for_2_16_hidden_layers_bi_True: {'Open': 177.71, 'High': 9.58, 'Low': 8.1, 'Close': 10.51} - {'Open': 50.59, 'High': 52.57, 'Low': 50.99, 'Close': 48.22}\n",
      "--------------------------------------------------------------------------------\n"
     ]
    },
    {
     "name": "stderr",
     "output_type": "stream",
     "text": [
      "100%|██████████| 25/25 [00:07<00:00,  3.54it/s]"
     ]
    },
    {
     "name": "stdout",
     "output_type": "stream",
     "text": [
      "\n",
      "MSE:  0.0030926711042411625\n",
      "Training time: 7.065954208374023\n"
     ]
    },
    {
     "name": "stderr",
     "output_type": "stream",
     "text": [
      "\n"
     ]
    },
    {
     "name": "stdout",
     "output_type": "stream",
     "text": [
      "metrics - mlflow\n",
      "lstm_4_for_2_16_hidden_layers_bi_False: {'Open': 20.17, 'High': 12.25, 'Low': 18.94, 'Close': 7.57} - {'Open': 50.2, 'High': 49.8, 'Low': 47.43, 'Close': 46.64}\n",
      "--------------------------------------------------------------------------------\n"
     ]
    },
    {
     "name": "stderr",
     "output_type": "stream",
     "text": [
      "100%|██████████| 25/25 [00:11<00:00,  2.13it/s]"
     ]
    },
    {
     "name": "stdout",
     "output_type": "stream",
     "text": [
      "\n",
      "MSE:  0.0013989276552680307\n",
      "Training time: 11.737406492233276\n"
     ]
    },
    {
     "name": "stderr",
     "output_type": "stream",
     "text": [
      "\n"
     ]
    },
    {
     "name": "stdout",
     "output_type": "stream",
     "text": [
      "metrics - mlflow\n",
      "lstm_4_for_2_32_hidden_layers_bi_True: {'Open': 18.98, 'High': 7.43, 'Low': 8.69, 'Close': 13.16} - {'Open': 54.15, 'High': 52.17, 'Low': 49.41, 'Close': 49.8}\n",
      "--------------------------------------------------------------------------------\n"
     ]
    },
    {
     "name": "stderr",
     "output_type": "stream",
     "text": [
      "100%|██████████| 25/25 [00:09<00:00,  2.60it/s]"
     ]
    },
    {
     "name": "stdout",
     "output_type": "stream",
     "text": [
      "\n",
      "MSE:  0.001887241570959584\n",
      "Training time: 9.599519968032837\n"
     ]
    },
    {
     "name": "stderr",
     "output_type": "stream",
     "text": [
      "\n"
     ]
    },
    {
     "name": "stdout",
     "output_type": "stream",
     "text": [
      "metrics - mlflow\n",
      "lstm_4_for_2_32_hidden_layers_bi_False: {'Open': 6.99, 'High': 5.22, 'Low': 5.36, 'Close': 5.96} - {'Open': 52.17, 'High': 49.41, 'Low': 47.43, 'Close': 50.59}\n",
      "--------------------------------------------------------------------------------\n"
     ]
    },
    {
     "name": "stderr",
     "output_type": "stream",
     "text": [
      "100%|██████████| 25/25 [00:09<00:00,  2.64it/s]"
     ]
    },
    {
     "name": "stdout",
     "output_type": "stream",
     "text": [
      "\n",
      "MSE:  0.007110729455374754\n",
      "Training time: 9.475902318954468\n"
     ]
    },
    {
     "name": "stderr",
     "output_type": "stream",
     "text": [
      "\n"
     ]
    },
    {
     "name": "stdout",
     "output_type": "stream",
     "text": [
      "metrics - mlflow\n",
      "lstm_5_for_5_8_hidden_layers_bi_True: {'Open': 1.24, 'High': 2.55, 'Low': 1.53, 'Close': 1.39} - {'Open': 53.57, 'High': 47.62, 'Low': 50.79, 'Close': 52.78}\n",
      "--------------------------------------------------------------------------------\n"
     ]
    },
    {
     "name": "stderr",
     "output_type": "stream",
     "text": [
      "100%|██████████| 25/25 [00:07<00:00,  3.50it/s]"
     ]
    },
    {
     "name": "stdout",
     "output_type": "stream",
     "text": [
      "\n",
      "MSE:  0.014325130050285505\n",
      "Training time: 7.141646862030029\n"
     ]
    },
    {
     "name": "stderr",
     "output_type": "stream",
     "text": [
      "\n"
     ]
    },
    {
     "name": "stdout",
     "output_type": "stream",
     "text": [
      "metrics - mlflow\n",
      "lstm_5_for_5_8_hidden_layers_bi_False: {'Open': 1.44, 'High': 1.34, 'Low': 1.47, 'Close': 2.23} - {'Open': 43.65, 'High': 49.21, 'Low': 51.98, 'Close': 55.16}\n",
      "--------------------------------------------------------------------------------\n"
     ]
    },
    {
     "name": "stderr",
     "output_type": "stream",
     "text": [
      "100%|██████████| 25/25 [00:11<00:00,  2.14it/s]"
     ]
    },
    {
     "name": "stdout",
     "output_type": "stream",
     "text": [
      "\n",
      "MSE:  0.0031013206193725076\n",
      "Training time: 11.657443046569824\n"
     ]
    },
    {
     "name": "stderr",
     "output_type": "stream",
     "text": [
      "\n"
     ]
    },
    {
     "name": "stdout",
     "output_type": "stream",
     "text": [
      "metrics - mlflow\n",
      "lstm_5_for_5_16_hidden_layers_bi_True: {'Open': 4.83, 'High': 3.34, 'Low': 3.09, 'Close': 2.13} - {'Open': 46.03, 'High': 45.24, 'Low': 47.62, 'Close': 50.4}\n",
      "--------------------------------------------------------------------------------\n"
     ]
    },
    {
     "name": "stderr",
     "output_type": "stream",
     "text": [
      "100%|██████████| 25/25 [00:09<00:00,  2.71it/s]"
     ]
    },
    {
     "name": "stdout",
     "output_type": "stream",
     "text": [
      "\n",
      "MSE:  0.00467794737778604\n",
      "Training time: 9.215009212493896\n"
     ]
    },
    {
     "name": "stderr",
     "output_type": "stream",
     "text": [
      "\n"
     ]
    },
    {
     "name": "stdout",
     "output_type": "stream",
     "text": [
      "metrics - mlflow\n",
      "lstm_5_for_5_16_hidden_layers_bi_False: {'Open': 67.57, 'High': 3.66, 'Low': 2.25, 'Close': 1.61} - {'Open': 48.02, 'High': 48.81, 'Low': 48.81, 'Close': 55.95}\n",
      "--------------------------------------------------------------------------------\n"
     ]
    },
    {
     "name": "stderr",
     "output_type": "stream",
     "text": [
      "100%|██████████| 25/25 [00:13<00:00,  1.81it/s]"
     ]
    },
    {
     "name": "stdout",
     "output_type": "stream",
     "text": [
      "\n",
      "MSE:  0.001954788552561345\n",
      "Training time: 13.826634168624878\n"
     ]
    },
    {
     "name": "stderr",
     "output_type": "stream",
     "text": [
      "\n"
     ]
    },
    {
     "name": "stdout",
     "output_type": "stream",
     "text": [
      "metrics - mlflow\n",
      "lstm_5_for_5_32_hidden_layers_bi_True: {'Open': 3.0, 'High': 3.67, 'Low': 3.96, 'Close': 5.13} - {'Open': 48.41, 'High': 47.62, 'Low': 48.02, 'Close': 48.41}\n",
      "--------------------------------------------------------------------------------\n"
     ]
    },
    {
     "name": "stderr",
     "output_type": "stream",
     "text": [
      "100%|██████████| 25/25 [00:09<00:00,  2.61it/s]"
     ]
    },
    {
     "name": "stdout",
     "output_type": "stream",
     "text": [
      "\n",
      "MSE:  0.0026006797516646865\n",
      "Training time: 9.58114767074585\n"
     ]
    },
    {
     "name": "stderr",
     "output_type": "stream",
     "text": [
      "\n"
     ]
    },
    {
     "name": "stdout",
     "output_type": "stream",
     "text": [
      "metrics - mlflow\n",
      "lstm_5_for_5_32_hidden_layers_bi_False: {'Open': 3.16, 'High': 6.05, 'Low': 7.76, 'Close': 3.04} - {'Open': 48.41, 'High': 49.6, 'Low': 48.41, 'Close': 49.6}\n",
      "--------------------------------------------------------------------------------\n"
     ]
    },
    {
     "name": "stderr",
     "output_type": "stream",
     "text": [
      "100%|██████████| 25/25 [00:16<00:00,  1.51it/s]"
     ]
    },
    {
     "name": "stdout",
     "output_type": "stream",
     "text": [
      "\n",
      "MSE:  0.005616804405760307\n",
      "Training time: 16.541228771209717\n"
     ]
    },
    {
     "name": "stderr",
     "output_type": "stream",
     "text": [
      "\n"
     ]
    },
    {
     "name": "stdout",
     "output_type": "stream",
     "text": [
      "metrics - mlflow\n",
      "lstm_10_for_5_8_hidden_layers_bi_True: {'Open': 1.6, 'High': 2.39, 'Low': 1.66, 'Close': 1.06} - {'Open': 48.99, 'High': 52.63, 'Low': 48.18, 'Close': 47.77}\n",
      "--------------------------------------------------------------------------------\n"
     ]
    },
    {
     "name": "stderr",
     "output_type": "stream",
     "text": [
      "100%|██████████| 25/25 [00:10<00:00,  2.31it/s]"
     ]
    },
    {
     "name": "stdout",
     "output_type": "stream",
     "text": [
      "\n",
      "MSE:  0.016735943499952555\n",
      "Training time: 10.833165645599365\n"
     ]
    },
    {
     "name": "stderr",
     "output_type": "stream",
     "text": [
      "\n"
     ]
    },
    {
     "name": "stdout",
     "output_type": "stream",
     "text": [
      "metrics - mlflow\n",
      "lstm_10_for_5_8_hidden_layers_bi_False: {'Open': 1.25, 'High': 1.64, 'Low': 2.82, 'Close': 1.07} - {'Open': 48.99, 'High': 52.23, 'Low': 51.01, 'Close': 48.99}\n",
      "--------------------------------------------------------------------------------\n"
     ]
    },
    {
     "name": "stderr",
     "output_type": "stream",
     "text": [
      "100%|██████████| 25/25 [00:17<00:00,  1.45it/s]"
     ]
    },
    {
     "name": "stdout",
     "output_type": "stream",
     "text": [
      "\n",
      "MSE:  0.0022117589564564135\n",
      "Training time: 17.247113704681396\n"
     ]
    },
    {
     "name": "stderr",
     "output_type": "stream",
     "text": [
      "\n"
     ]
    },
    {
     "name": "stdout",
     "output_type": "stream",
     "text": [
      "metrics - mlflow\n",
      "lstm_10_for_5_16_hidden_layers_bi_True: {'Open': 3.51, 'High': 3.58, 'Low': 18.5, 'Close': 7.19} - {'Open': 50.61, 'High': 53.44, 'Low': 52.23, 'Close': 46.56}\n",
      "--------------------------------------------------------------------------------\n"
     ]
    },
    {
     "name": "stderr",
     "output_type": "stream",
     "text": [
      "100%|██████████| 25/25 [00:12<00:00,  2.03it/s]"
     ]
    },
    {
     "name": "stdout",
     "output_type": "stream",
     "text": [
      "\n",
      "MSE:  0.0033761086121488074\n",
      "Training time: 12.335405349731445\n"
     ]
    },
    {
     "name": "stderr",
     "output_type": "stream",
     "text": [
      "\n"
     ]
    },
    {
     "name": "stdout",
     "output_type": "stream",
     "text": [
      "metrics - mlflow\n",
      "lstm_10_for_5_16_hidden_layers_bi_False: {'Open': 4.41, 'High': 2.2, 'Low': 2.03, 'Close': 1.97} - {'Open': 53.85, 'High': 53.04, 'Low': 48.18, 'Close': 56.28}\n",
      "--------------------------------------------------------------------------------\n"
     ]
    },
    {
     "name": "stderr",
     "output_type": "stream",
     "text": [
      "100%|██████████| 25/25 [00:19<00:00,  1.25it/s]"
     ]
    },
    {
     "name": "stdout",
     "output_type": "stream",
     "text": [
      "\n",
      "MSE:  0.0017645258049014956\n",
      "Training time: 19.937761068344116\n"
     ]
    },
    {
     "name": "stderr",
     "output_type": "stream",
     "text": [
      "\n"
     ]
    },
    {
     "name": "stdout",
     "output_type": "stream",
     "text": [
      "metrics - mlflow\n",
      "lstm_10_for_5_32_hidden_layers_bi_True: {'Open': 3.88, 'High': 3.93, 'Low': 2.97, 'Close': 2.96} - {'Open': 47.37, 'High': 54.66, 'Low': 52.23, 'Close': 45.75}\n",
      "--------------------------------------------------------------------------------\n"
     ]
    },
    {
     "name": "stderr",
     "output_type": "stream",
     "text": [
      "100%|██████████| 25/25 [00:12<00:00,  2.01it/s]"
     ]
    },
    {
     "name": "stdout",
     "output_type": "stream",
     "text": [
      "\n",
      "MSE:  0.0020947422017343342\n",
      "Training time: 12.449573040008545\n"
     ]
    },
    {
     "name": "stderr",
     "output_type": "stream",
     "text": [
      "\n"
     ]
    },
    {
     "name": "stdout",
     "output_type": "stream",
     "text": [
      "metrics - mlflow\n",
      "lstm_10_for_5_32_hidden_layers_bi_False: {'Open': 5.68, 'High': 1.3, 'Low': 2.58, 'Close': 4.94} - {'Open': 54.66, 'High': 48.18, 'Low': 51.01, 'Close': 52.23}\n",
      "--------------------------------------------------------------------------------\n"
     ]
    },
    {
     "name": "stderr",
     "output_type": "stream",
     "text": [
      "100%|██████████| 25/25 [00:16<00:00,  1.47it/s]"
     ]
    },
    {
     "name": "stdout",
     "output_type": "stream",
     "text": [
      "\n",
      "MSE:  0.007142027634052703\n",
      "Training time: 16.98684549331665\n"
     ]
    },
    {
     "name": "stderr",
     "output_type": "stream",
     "text": [
      "\n"
     ]
    },
    {
     "name": "stdout",
     "output_type": "stream",
     "text": [
      "metrics - mlflow\n",
      "lstm_10_for_10_8_hidden_layers_bi_True: {'Open': 4.05, 'High': 4.42, 'Low': 7.97, 'Close': 2.14} - {'Open': 50.61, 'High': 46.96, 'Low': 45.75, 'Close': 48.99}\n",
      "--------------------------------------------------------------------------------\n"
     ]
    },
    {
     "name": "stderr",
     "output_type": "stream",
     "text": [
      "100%|██████████| 25/25 [00:11<00:00,  2.26it/s]"
     ]
    },
    {
     "name": "stdout",
     "output_type": "stream",
     "text": [
      "\n",
      "MSE:  0.017891040430046044\n",
      "Training time: 11.04529070854187\n"
     ]
    },
    {
     "name": "stderr",
     "output_type": "stream",
     "text": [
      "\n"
     ]
    },
    {
     "name": "stdout",
     "output_type": "stream",
     "text": [
      "metrics - mlflow\n",
      "lstm_10_for_10_8_hidden_layers_bi_False: {'Open': 4.78, 'High': 1.56, 'Low': 1.49, 'Close': 1.58} - {'Open': 49.8, 'High': 52.63, 'Low': 50.2, 'Close': 51.82}\n",
      "--------------------------------------------------------------------------------\n"
     ]
    },
    {
     "name": "stderr",
     "output_type": "stream",
     "text": [
      "100%|██████████| 25/25 [00:18<00:00,  1.36it/s]"
     ]
    },
    {
     "name": "stdout",
     "output_type": "stream",
     "text": [
      "\n",
      "MSE:  0.00371573398856876\n",
      "Training time: 18.44778823852539\n"
     ]
    },
    {
     "name": "stderr",
     "output_type": "stream",
     "text": [
      "\n"
     ]
    },
    {
     "name": "stdout",
     "output_type": "stream",
     "text": [
      "metrics - mlflow\n",
      "lstm_10_for_10_16_hidden_layers_bi_True: {'Open': 2.12, 'High': 2.14, 'Low': 2.3, 'Close': 3.45} - {'Open': 51.82, 'High': 48.99, 'Low': 52.63, 'Close': 57.49}\n",
      "--------------------------------------------------------------------------------\n"
     ]
    },
    {
     "name": "stderr",
     "output_type": "stream",
     "text": [
      "100%|██████████| 25/25 [00:11<00:00,  2.26it/s]"
     ]
    },
    {
     "name": "stdout",
     "output_type": "stream",
     "text": [
      "\n",
      "MSE:  0.005232761855810308\n",
      "Training time: 11.048126459121704\n"
     ]
    },
    {
     "name": "stderr",
     "output_type": "stream",
     "text": [
      "\n"
     ]
    },
    {
     "name": "stdout",
     "output_type": "stream",
     "text": [
      "metrics - mlflow\n",
      "lstm_10_for_10_16_hidden_layers_bi_False: {'Open': 2.05, 'High': 2.31, 'Low': 2.95, 'Close': 2.43} - {'Open': 51.82, 'High': 55.47, 'Low': 47.37, 'Close': 45.34}\n",
      "--------------------------------------------------------------------------------\n"
     ]
    },
    {
     "name": "stderr",
     "output_type": "stream",
     "text": [
      "100%|██████████| 25/25 [00:21<00:00,  1.19it/s]"
     ]
    },
    {
     "name": "stdout",
     "output_type": "stream",
     "text": [
      "\n",
      "MSE:  0.002842033286399853\n",
      "Training time: 21.081611394882202\n"
     ]
    },
    {
     "name": "stderr",
     "output_type": "stream",
     "text": [
      "\n"
     ]
    },
    {
     "name": "stdout",
     "output_type": "stream",
     "text": [
      "metrics - mlflow\n",
      "lstm_10_for_10_32_hidden_layers_bi_True: {'Open': 2.56, 'High': 5.4, 'Low': 4.94, 'Close': 4.89} - {'Open': 52.23, 'High': 49.8, 'Low': 50.2, 'Close': 54.25}\n",
      "--------------------------------------------------------------------------------\n"
     ]
    },
    {
     "name": "stderr",
     "output_type": "stream",
     "text": [
      "100%|██████████| 25/25 [00:14<00:00,  1.71it/s]"
     ]
    },
    {
     "name": "stdout",
     "output_type": "stream",
     "text": [
      "\n",
      "MSE:  0.0033900011689043962\n",
      "Training time: 14.587007761001587\n"
     ]
    },
    {
     "name": "stderr",
     "output_type": "stream",
     "text": [
      "\n"
     ]
    },
    {
     "name": "stdout",
     "output_type": "stream",
     "text": [
      "metrics - mlflow\n",
      "lstm_10_for_10_32_hidden_layers_bi_False: {'Open': 2.83, 'High': 2.95, 'Low': 7.12, 'Close': 3.55} - {'Open': 48.99, 'High': 57.89, 'Low': 48.18, 'Close': 52.23}\n",
      "--------------------------------------------------------------------------------\n"
     ]
    },
    {
     "name": "stderr",
     "output_type": "stream",
     "text": [
      "100%|██████████| 25/25 [00:31<00:00,  1.27s/it]"
     ]
    },
    {
     "name": "stdout",
     "output_type": "stream",
     "text": [
      "\n",
      "MSE:  0.003753084546098342\n",
      "Training time: 31.666861057281494\n"
     ]
    },
    {
     "name": "stderr",
     "output_type": "stream",
     "text": [
      "\n"
     ]
    },
    {
     "name": "stdout",
     "output_type": "stream",
     "text": [
      "metrics - mlflow\n",
      "lstm_20_for_5_8_hidden_layers_bi_True: {'Open': 1.81, 'High': 1.95, 'Low': 2.67, 'Close': 1.47} - {'Open': 48.52, 'High': 48.95, 'Low': 44.73, 'Close': 51.9}\n",
      "--------------------------------------------------------------------------------\n"
     ]
    },
    {
     "name": "stderr",
     "output_type": "stream",
     "text": [
      "100%|██████████| 25/25 [00:16<00:00,  1.52it/s]"
     ]
    },
    {
     "name": "stdout",
     "output_type": "stream",
     "text": [
      "\n",
      "MSE:  0.009816881878158221\n",
      "Training time: 16.490330696105957\n"
     ]
    },
    {
     "name": "stderr",
     "output_type": "stream",
     "text": [
      "\n"
     ]
    },
    {
     "name": "stdout",
     "output_type": "stream",
     "text": [
      "metrics - mlflow\n",
      "lstm_20_for_5_8_hidden_layers_bi_False: {'Open': 1.66, 'High': 1.35, 'Low': 1.43, 'Close': 1.26} - {'Open': 48.52, 'High': 47.68, 'Low': 46.41, 'Close': 52.32}\n",
      "--------------------------------------------------------------------------------\n"
     ]
    },
    {
     "name": "stderr",
     "output_type": "stream",
     "text": [
      "100%|██████████| 25/25 [00:29<00:00,  1.19s/it]"
     ]
    },
    {
     "name": "stdout",
     "output_type": "stream",
     "text": [
      "\n",
      "MSE:  0.0019242850786003356\n",
      "Training time: 29.850706577301025\n"
     ]
    },
    {
     "name": "stderr",
     "output_type": "stream",
     "text": [
      "\n"
     ]
    },
    {
     "name": "stdout",
     "output_type": "stream",
     "text": [
      "metrics - mlflow\n",
      "lstm_20_for_5_16_hidden_layers_bi_True: {'Open': 1.79, 'High': 6.02, 'Low': 12.11, 'Close': 6.6} - {'Open': 50.63, 'High': 48.52, 'Low': 51.05, 'Close': 50.21}\n",
      "--------------------------------------------------------------------------------\n"
     ]
    },
    {
     "name": "stderr",
     "output_type": "stream",
     "text": [
      "100%|██████████| 25/25 [00:16<00:00,  1.49it/s]"
     ]
    },
    {
     "name": "stdout",
     "output_type": "stream",
     "text": [
      "\n",
      "MSE:  0.004052684790132424\n",
      "Training time: 16.779184103012085\n"
     ]
    },
    {
     "name": "stderr",
     "output_type": "stream",
     "text": [
      "\n"
     ]
    },
    {
     "name": "stdout",
     "output_type": "stream",
     "text": [
      "metrics - mlflow\n",
      "lstm_20_for_5_16_hidden_layers_bi_False: {'Open': 1.21, 'High': 2.07, 'Low': 2.07, 'Close': 2.53} - {'Open': 50.63, 'High': 43.04, 'Low': 43.88, 'Close': 48.95}\n",
      "--------------------------------------------------------------------------------\n"
     ]
    },
    {
     "name": "stderr",
     "output_type": "stream",
     "text": [
      "100%|██████████| 25/25 [00:36<00:00,  1.44s/it]"
     ]
    },
    {
     "name": "stdout",
     "output_type": "stream",
     "text": [
      "\n",
      "MSE:  0.0017367152927013545\n",
      "Training time: 36.10013270378113\n"
     ]
    },
    {
     "name": "stderr",
     "output_type": "stream",
     "text": [
      "\n"
     ]
    },
    {
     "name": "stdout",
     "output_type": "stream",
     "text": [
      "metrics - mlflow\n",
      "lstm_20_for_5_32_hidden_layers_bi_True: {'Open': 6.72, 'High': 8.78, 'Low': 2.67, 'Close': 4.85} - {'Open': 46.41, 'High': 47.68, 'Low': 44.3, 'Close': 48.95}\n",
      "--------------------------------------------------------------------------------\n"
     ]
    },
    {
     "name": "stderr",
     "output_type": "stream",
     "text": [
      "100%|██████████| 25/25 [00:19<00:00,  1.29it/s]"
     ]
    },
    {
     "name": "stdout",
     "output_type": "stream",
     "text": [
      "\n",
      "MSE:  0.0024214276434996952\n",
      "Training time: 19.395071744918823\n"
     ]
    },
    {
     "name": "stderr",
     "output_type": "stream",
     "text": [
      "\n"
     ]
    },
    {
     "name": "stdout",
     "output_type": "stream",
     "text": [
      "metrics - mlflow\n",
      "lstm_20_for_5_32_hidden_layers_bi_False: {'Open': 2.4, 'High': 10.15, 'Low': 3.26, 'Close': 6.65} - {'Open': 51.05, 'High': 51.05, 'Low': 56.12, 'Close': 46.41}\n",
      "--------------------------------------------------------------------------------\n"
     ]
    },
    {
     "name": "stderr",
     "output_type": "stream",
     "text": [
      "100%|██████████| 25/25 [00:28<00:00,  1.15s/it]"
     ]
    },
    {
     "name": "stdout",
     "output_type": "stream",
     "text": [
      "\n",
      "MSE:  0.006646843922611039\n",
      "Training time: 28.87611722946167\n"
     ]
    },
    {
     "name": "stderr",
     "output_type": "stream",
     "text": [
      "\n"
     ]
    },
    {
     "name": "stdout",
     "output_type": "stream",
     "text": [
      "metrics - mlflow\n",
      "lstm_20_for_10_8_hidden_layers_bi_True: {'Open': 2.97, 'High': 4.0, 'Low': 2.17, 'Close': 2.82} - {'Open': 52.32, 'High': 51.48, 'Low': 53.16, 'Close': 51.48}\n",
      "--------------------------------------------------------------------------------\n"
     ]
    },
    {
     "name": "stderr",
     "output_type": "stream",
     "text": [
      "100%|██████████| 25/25 [00:15<00:00,  1.58it/s]"
     ]
    },
    {
     "name": "stdout",
     "output_type": "stream",
     "text": [
      "\n",
      "MSE:  0.01199318554538947\n",
      "Training time: 15.79604458808899\n"
     ]
    },
    {
     "name": "stderr",
     "output_type": "stream",
     "text": [
      "\n"
     ]
    },
    {
     "name": "stdout",
     "output_type": "stream",
     "text": [
      "metrics - mlflow\n",
      "lstm_20_for_10_8_hidden_layers_bi_False: {'Open': 3.23, 'High': 3.17, 'Low': 6.09, 'Close': 9.1} - {'Open': 49.37, 'High': 50.21, 'Low': 55.27, 'Close': 51.9}\n",
      "--------------------------------------------------------------------------------\n"
     ]
    },
    {
     "name": "stderr",
     "output_type": "stream",
     "text": [
      "100%|██████████| 25/25 [00:30<00:00,  1.24s/it]"
     ]
    },
    {
     "name": "stdout",
     "output_type": "stream",
     "text": [
      "\n",
      "MSE:  0.003282865876546846\n",
      "Training time: 30.902774572372437\n"
     ]
    },
    {
     "name": "stderr",
     "output_type": "stream",
     "text": [
      "\n"
     ]
    },
    {
     "name": "stdout",
     "output_type": "stream",
     "text": [
      "metrics - mlflow\n",
      "lstm_20_for_10_16_hidden_layers_bi_True: {'Open': 3.63, 'High': 9.35, 'Low': 2.0, 'Close': 89.86} - {'Open': 50.21, 'High': 51.05, 'Low': 46.41, 'Close': 45.99}\n",
      "--------------------------------------------------------------------------------\n"
     ]
    },
    {
     "name": "stderr",
     "output_type": "stream",
     "text": [
      "100%|██████████| 25/25 [00:17<00:00,  1.46it/s]"
     ]
    },
    {
     "name": "stdout",
     "output_type": "stream",
     "text": [
      "\n",
      "MSE:  0.0060551021104821795\n",
      "Training time: 17.10749840736389\n"
     ]
    },
    {
     "name": "stderr",
     "output_type": "stream",
     "text": [
      "\n"
     ]
    },
    {
     "name": "stdout",
     "output_type": "stream",
     "text": [
      "metrics - mlflow\n",
      "lstm_20_for_10_16_hidden_layers_bi_False: {'Open': 3.53, 'High': 5.6, 'Low': 6.6, 'Close': 2.86} - {'Open': 49.79, 'High': 48.95, 'Low': 52.74, 'Close': 50.21}\n",
      "--------------------------------------------------------------------------------\n"
     ]
    },
    {
     "name": "stderr",
     "output_type": "stream",
     "text": [
      "100%|██████████| 25/25 [00:36<00:00,  1.45s/it]"
     ]
    },
    {
     "name": "stdout",
     "output_type": "stream",
     "text": [
      "\n",
      "MSE:  0.0029127579764463007\n",
      "Training time: 36.19569373130798\n"
     ]
    },
    {
     "name": "stderr",
     "output_type": "stream",
     "text": [
      "\n"
     ]
    },
    {
     "name": "stdout",
     "output_type": "stream",
     "text": [
      "metrics - mlflow\n",
      "lstm_20_for_10_32_hidden_layers_bi_True: {'Open': 5.4, 'High': 5.85, 'Low': 4.15, 'Close': 23.23} - {'Open': 49.37, 'High': 48.1, 'Low': 49.79, 'Close': 48.1}\n",
      "--------------------------------------------------------------------------------\n"
     ]
    },
    {
     "name": "stderr",
     "output_type": "stream",
     "text": [
      "100%|██████████| 25/25 [00:19<00:00,  1.29it/s]"
     ]
    },
    {
     "name": "stdout",
     "output_type": "stream",
     "text": [
      "\n",
      "MSE:  0.003706322235162728\n",
      "Training time: 19.368146419525146\n"
     ]
    },
    {
     "name": "stderr",
     "output_type": "stream",
     "text": [
      "\n"
     ]
    },
    {
     "name": "stdout",
     "output_type": "stream",
     "text": [
      "metrics - mlflow\n",
      "lstm_20_for_10_32_hidden_layers_bi_False: {'Open': 3.28, 'High': 4.14, 'Low': 6.01, 'Close': 4.4} - {'Open': 46.84, 'High': 52.74, 'Low': 49.79, 'Close': 48.95}\n",
      "--------------------------------------------------------------------------------\n"
     ]
    },
    {
     "name": "stderr",
     "output_type": "stream",
     "text": [
      "100%|██████████| 25/25 [00:27<00:00,  1.09s/it]"
     ]
    },
    {
     "name": "stdout",
     "output_type": "stream",
     "text": [
      "\n",
      "MSE:  0.009348114343503347\n",
      "Training time: 27.364665508270264\n"
     ]
    },
    {
     "name": "stderr",
     "output_type": "stream",
     "text": [
      "\n"
     ]
    },
    {
     "name": "stdout",
     "output_type": "stream",
     "text": [
      "metrics - mlflow\n",
      "lstm_20_for_20_8_hidden_layers_bi_True: {'Open': 1.59, 'High': 2.45, 'Low': 2.36, 'Close': 1.43} - {'Open': 49.37, 'High': 48.1, 'Low': 49.79, 'Close': 47.68}\n",
      "--------------------------------------------------------------------------------\n"
     ]
    },
    {
     "name": "stderr",
     "output_type": "stream",
     "text": [
      "100%|██████████| 25/25 [00:15<00:00,  1.59it/s]"
     ]
    },
    {
     "name": "stdout",
     "output_type": "stream",
     "text": [
      "\n",
      "MSE:  0.01953632549311106\n",
      "Training time: 15.763659238815308\n"
     ]
    },
    {
     "name": "stderr",
     "output_type": "stream",
     "text": [
      "\n"
     ]
    },
    {
     "name": "stdout",
     "output_type": "stream",
     "text": [
      "metrics - mlflow\n",
      "lstm_20_for_20_8_hidden_layers_bi_False: {'Open': 5.4, 'High': 1.42, 'Low': 1.33, 'Close': 1.18} - {'Open': 50.63, 'High': 45.99, 'Low': 45.57, 'Close': 58.23}\n",
      "--------------------------------------------------------------------------------\n"
     ]
    },
    {
     "name": "stderr",
     "output_type": "stream",
     "text": [
      "100%|██████████| 25/25 [00:28<00:00,  1.16s/it]"
     ]
    },
    {
     "name": "stdout",
     "output_type": "stream",
     "text": [
      "\n",
      "MSE:  0.0052274566752692824\n",
      "Training time: 28.910335302352905\n"
     ]
    },
    {
     "name": "stderr",
     "output_type": "stream",
     "text": [
      "\n"
     ]
    },
    {
     "name": "stdout",
     "output_type": "stream",
     "text": [
      "metrics - mlflow\n",
      "lstm_20_for_20_16_hidden_layers_bi_True: {'Open': 2.15, 'High': 1.7, 'Low': 1.69, 'Close': 44.0} - {'Open': 52.32, 'High': 53.16, 'Low': 50.63, 'Close': 45.15}\n",
      "--------------------------------------------------------------------------------\n"
     ]
    },
    {
     "name": "stderr",
     "output_type": "stream",
     "text": [
      "100%|██████████| 25/25 [00:16<00:00,  1.54it/s]"
     ]
    },
    {
     "name": "stdout",
     "output_type": "stream",
     "text": [
      "\n",
      "MSE:  0.006768098208480156\n",
      "Training time: 16.18710160255432\n"
     ]
    },
    {
     "name": "stderr",
     "output_type": "stream",
     "text": [
      "\n"
     ]
    },
    {
     "name": "stdout",
     "output_type": "stream",
     "text": [
      "metrics - mlflow\n",
      "lstm_20_for_20_16_hidden_layers_bi_False: {'Open': 1.66, 'High': 1.67, 'Low': 1.27, 'Close': 2.0} - {'Open': 48.1, 'High': 45.57, 'Low': 46.41, 'Close': 47.68}\n",
      "--------------------------------------------------------------------------------\n"
     ]
    },
    {
     "name": "stderr",
     "output_type": "stream",
     "text": [
      "100%|██████████| 25/25 [00:34<00:00,  1.36s/it]"
     ]
    },
    {
     "name": "stdout",
     "output_type": "stream",
     "text": [
      "\n",
      "MSE:  0.004913232745960928\n",
      "Training time: 34.03163504600525\n"
     ]
    },
    {
     "name": "stderr",
     "output_type": "stream",
     "text": [
      "\n"
     ]
    },
    {
     "name": "stdout",
     "output_type": "stream",
     "text": [
      "metrics - mlflow\n",
      "lstm_20_for_20_32_hidden_layers_bi_True: {'Open': 2.09, 'High': 2.84, 'Low': 2.45, 'Close': 2.03} - {'Open': 48.1, 'High': 51.9, 'Low': 45.57, 'Close': 45.99}\n",
      "--------------------------------------------------------------------------------\n"
     ]
    },
    {
     "name": "stderr",
     "output_type": "stream",
     "text": [
      "100%|██████████| 25/25 [00:19<00:00,  1.30it/s]"
     ]
    },
    {
     "name": "stdout",
     "output_type": "stream",
     "text": [
      "\n",
      "MSE:  0.005481278631263054\n",
      "Training time: 19.27386975288391\n"
     ]
    },
    {
     "name": "stderr",
     "output_type": "stream",
     "text": [
      "\n"
     ]
    },
    {
     "name": "stdout",
     "output_type": "stream",
     "text": [
      "metrics - mlflow\n",
      "lstm_20_for_20_32_hidden_layers_bi_False: {'Open': 2.35, 'High': 1.58, 'Low': 2.38, 'Close': 1.84} - {'Open': 49.37, 'High': 46.41, 'Low': 48.1, 'Close': 49.79}\n",
      "--------------------------------------------------------------------------------\n"
     ]
    },
    {
     "name": "stderr",
     "output_type": "stream",
     "text": [
      "100%|██████████| 25/25 [00:42<00:00,  1.70s/it]"
     ]
    },
    {
     "name": "stdout",
     "output_type": "stream",
     "text": [
      "\n",
      "MSE:  0.004079966393944163\n",
      "Training time: 42.41997265815735\n"
     ]
    },
    {
     "name": "stderr",
     "output_type": "stream",
     "text": [
      "\n"
     ]
    },
    {
     "name": "stdout",
     "output_type": "stream",
     "text": [
      "metrics - mlflow\n",
      "lstm_30_for_5_8_hidden_layers_bi_True: {'Open': 2.88, 'High': 2.57, 'Low': 1.28, 'Close': 1.44} - {'Open': 49.34, 'High': 51.54, 'Low': 57.71, 'Close': 53.3}\n",
      "--------------------------------------------------------------------------------\n"
     ]
    },
    {
     "name": "stderr",
     "output_type": "stream",
     "text": [
      "100%|██████████| 25/25 [00:43<00:00,  1.74s/it]\n"
     ]
    },
    {
     "name": "stdout",
     "output_type": "stream",
     "text": [
      "\n",
      "MSE:  0.01098847733094142\n",
      "Training time: 43.54401516914368\n",
      "metrics - mlflow\n",
      "lstm_30_for_5_8_hidden_layers_bi_False: {'Open': 1.93, 'High': 1.12, 'Low': 1.16, 'Close': 4.16} - {'Open': 49.34, 'High': 48.9, 'Low': 50.66, 'Close': 49.78}\n",
      "--------------------------------------------------------------------------------\n"
     ]
    },
    {
     "name": "stderr",
     "output_type": "stream",
     "text": [
      "100%|██████████| 25/25 [02:05<00:00,  5.02s/it]\n"
     ]
    },
    {
     "name": "stdout",
     "output_type": "stream",
     "text": [
      "\n",
      "MSE:  0.0024014058469149927\n",
      "Training time: 125.5797381401062\n",
      "metrics - mlflow\n",
      "lstm_30_for_5_16_hidden_layers_bi_True: {'Open': 19.41, 'High': 5.43, 'Low': 4.78, 'Close': 2.28} - {'Open': 50.22, 'High': 47.14, 'Low': 47.14, 'Close': 52.86}\n",
      "--------------------------------------------------------------------------------\n"
     ]
    },
    {
     "name": "stderr",
     "output_type": "stream",
     "text": [
      "100%|██████████| 25/25 [01:16<00:00,  3.05s/it]\n"
     ]
    },
    {
     "name": "stdout",
     "output_type": "stream",
     "text": [
      "\n",
      "MSE:  0.003626713018792753\n",
      "Training time: 76.18252897262573\n",
      "metrics - mlflow\n",
      "lstm_30_for_5_16_hidden_layers_bi_False: {'Open': 2.43, 'High': 2.9, 'Low': 3.68, 'Close': 2.8} - {'Open': 55.07, 'High': 49.78, 'Low': 48.02, 'Close': 51.54}\n",
      "--------------------------------------------------------------------------------\n"
     ]
    },
    {
     "name": "stderr",
     "output_type": "stream",
     "text": [
      "100%|██████████| 25/25 [01:53<00:00,  4.52s/it]"
     ]
    },
    {
     "name": "stdout",
     "output_type": "stream",
     "text": [
      "\n",
      "MSE:  0.002072177048271092\n",
      "Training time: 113.07565188407898\n"
     ]
    },
    {
     "name": "stderr",
     "output_type": "stream",
     "text": [
      "\n"
     ]
    },
    {
     "name": "stdout",
     "output_type": "stream",
     "text": [
      "metrics - mlflow\n",
      "lstm_30_for_5_32_hidden_layers_bi_True: {'Open': 4.43, 'High': 3.96, 'Low': 5.03, 'Close': 5.3} - {'Open': 52.86, 'High': 53.74, 'Low': 52.86, 'Close': 50.22}\n",
      "--------------------------------------------------------------------------------\n"
     ]
    },
    {
     "name": "stderr",
     "output_type": "stream",
     "text": [
      "100%|██████████| 25/25 [01:09<00:00,  2.77s/it]\n"
     ]
    },
    {
     "name": "stdout",
     "output_type": "stream",
     "text": [
      "\n",
      "MSE:  0.002662893930951563\n",
      "Training time: 69.2225570678711\n",
      "metrics - mlflow\n",
      "lstm_30_for_5_32_hidden_layers_bi_False: {'Open': 5.82, 'High': 9.91, 'Low': 6.71, 'Close': 12.27} - {'Open': 55.07, 'High': 49.34, 'Low': 44.05, 'Close': 45.81}\n",
      "--------------------------------------------------------------------------------\n"
     ]
    },
    {
     "name": "stderr",
     "output_type": "stream",
     "text": [
      "100%|██████████| 25/25 [01:40<00:00,  4.03s/it]\n"
     ]
    },
    {
     "name": "stdout",
     "output_type": "stream",
     "text": [
      "\n",
      "MSE:  0.006682369123714475\n",
      "Training time: 100.79046082496643\n",
      "metrics - mlflow\n",
      "lstm_30_for_10_8_hidden_layers_bi_True: {'Open': 1.77, 'High': 2.35, 'Low': 2.65, 'Close': 2.29} - {'Open': 49.34, 'High': 50.66, 'Low': 52.42, 'Close': 51.1}\n",
      "--------------------------------------------------------------------------------\n"
     ]
    },
    {
     "name": "stderr",
     "output_type": "stream",
     "text": [
      "100%|██████████| 25/25 [00:57<00:00,  2.31s/it]"
     ]
    },
    {
     "name": "stdout",
     "output_type": "stream",
     "text": [
      "\n",
      "MSE:  0.0122612680380161\n",
      "Training time: 57.64952492713928\n"
     ]
    },
    {
     "name": "stderr",
     "output_type": "stream",
     "text": [
      "\n"
     ]
    },
    {
     "name": "stdout",
     "output_type": "stream",
     "text": [
      "metrics - mlflow\n",
      "lstm_30_for_10_8_hidden_layers_bi_False: {'Open': 2.71, 'High': 1.6, 'Low': 2.15, 'Close': 11.02} - {'Open': 53.74, 'High': 46.26, 'Low': 46.7, 'Close': 50.22}\n",
      "--------------------------------------------------------------------------------\n"
     ]
    },
    {
     "name": "stderr",
     "output_type": "stream",
     "text": [
      "100%|██████████| 25/25 [01:55<00:00,  4.62s/it]"
     ]
    },
    {
     "name": "stdout",
     "output_type": "stream",
     "text": [
      "\n",
      "MSE:  0.0033156145095395353\n",
      "Training time: 115.52158904075623\n"
     ]
    },
    {
     "name": "stderr",
     "output_type": "stream",
     "text": [
      "\n"
     ]
    },
    {
     "name": "stdout",
     "output_type": "stream",
     "text": [
      "metrics - mlflow\n",
      "lstm_30_for_10_16_hidden_layers_bi_True: {'Open': 4.81, 'High': 2.34, 'Low': 1.92, 'Close': 2.86} - {'Open': 48.9, 'High': 52.86, 'Low': 53.3, 'Close': 56.83}\n",
      "--------------------------------------------------------------------------------\n"
     ]
    },
    {
     "name": "stderr",
     "output_type": "stream",
     "text": [
      "100%|██████████| 25/25 [01:01<00:00,  2.46s/it]"
     ]
    },
    {
     "name": "stdout",
     "output_type": "stream",
     "text": [
      "\n",
      "MSE:  0.005963050223027284\n",
      "Training time: 61.44696068763733\n"
     ]
    },
    {
     "name": "stderr",
     "output_type": "stream",
     "text": [
      "\n"
     ]
    },
    {
     "name": "stdout",
     "output_type": "stream",
     "text": [
      "metrics - mlflow\n",
      "lstm_30_for_10_16_hidden_layers_bi_False: {'Open': 2.81, 'High': 6.31, 'Low': 3.07, 'Close': 1.89} - {'Open': 52.42, 'High': 51.1, 'Low': 47.58, 'Close': 48.9}\n",
      "--------------------------------------------------------------------------------\n"
     ]
    },
    {
     "name": "stderr",
     "output_type": "stream",
     "text": [
      "100%|██████████| 25/25 [02:08<00:00,  5.12s/it]\n"
     ]
    },
    {
     "name": "stdout",
     "output_type": "stream",
     "text": [
      "\n",
      "MSE:  0.002958799864595326\n",
      "Training time: 128.06782698631287\n",
      "metrics - mlflow\n",
      "lstm_30_for_10_32_hidden_layers_bi_True: {'Open': 4.92, 'High': 6.88, 'Low': 2.48, 'Close': 9.7} - {'Open': 54.19, 'High': 55.95, 'Low': 56.39, 'Close': 53.3}\n",
      "--------------------------------------------------------------------------------\n"
     ]
    },
    {
     "name": "stderr",
     "output_type": "stream",
     "text": [
      "100%|██████████| 25/25 [00:55<00:00,  2.24s/it]\n"
     ]
    },
    {
     "name": "stdout",
     "output_type": "stream",
     "text": [
      "\n",
      "MSE:  0.003671599829641099\n",
      "Training time: 55.949806690216064\n",
      "metrics - mlflow\n",
      "lstm_30_for_10_32_hidden_layers_bi_False: {'Open': 7.07, 'High': 5.91, 'Low': 6.08, 'Close': 4.93} - {'Open': 55.95, 'High': 53.74, 'Low': 48.46, 'Close': 47.58}\n",
      "--------------------------------------------------------------------------------\n"
     ]
    },
    {
     "name": "stderr",
     "output_type": "stream",
     "text": [
      "100%|██████████| 25/25 [01:33<00:00,  3.72s/it]\n"
     ]
    },
    {
     "name": "stdout",
     "output_type": "stream",
     "text": [
      "\n",
      "MSE:  0.008998497801188093\n",
      "Training time: 93.06891131401062\n",
      "metrics - mlflow\n",
      "lstm_30_for_20_8_hidden_layers_bi_True: {'Open': 2.07, 'High': 3.73, 'Low': 1.77, 'Close': 1.93} - {'Open': 54.19, 'High': 48.9, 'Low': 46.26, 'Close': 48.46}\n",
      "--------------------------------------------------------------------------------\n"
     ]
    },
    {
     "name": "stderr",
     "output_type": "stream",
     "text": [
      "100%|██████████| 25/25 [00:49<00:00,  1.99s/it]\n"
     ]
    },
    {
     "name": "stdout",
     "output_type": "stream",
     "text": [
      "\n",
      "MSE:  0.02219491133179802\n",
      "Training time: 49.85793900489807\n",
      "metrics - mlflow\n",
      "lstm_30_for_20_8_hidden_layers_bi_False: {'Open': 1.34, 'High': 1.51, 'Low': 2.09, 'Close': 1.73} - {'Open': 51.1, 'High': 46.7, 'Low': 51.1, 'Close': 47.58}\n",
      "--------------------------------------------------------------------------------\n"
     ]
    },
    {
     "name": "stderr",
     "output_type": "stream",
     "text": [
      "100%|██████████| 25/25 [01:39<00:00,  3.97s/it]\n"
     ]
    },
    {
     "name": "stdout",
     "output_type": "stream",
     "text": [
      "\n",
      "MSE:  0.006015770808936885\n",
      "Training time: 99.18286681175232\n",
      "metrics - mlflow\n",
      "lstm_30_for_20_16_hidden_layers_bi_True: {'Open': 4.01, 'High': 2.01, 'Low': 2.37, 'Close': 2.08} - {'Open': 52.86, 'High': 52.42, 'Low': 44.93, 'Close': 51.1}\n",
      "--------------------------------------------------------------------------------\n"
     ]
    },
    {
     "name": "stderr",
     "output_type": "stream",
     "text": [
      "100%|██████████| 25/25 [01:01<00:00,  2.47s/it]\n"
     ]
    },
    {
     "name": "stdout",
     "output_type": "stream",
     "text": [
      "\n",
      "MSE:  0.006403710093134298\n",
      "Training time: 61.652536392211914\n",
      "metrics - mlflow\n",
      "lstm_30_for_20_16_hidden_layers_bi_False: {'Open': 2.49, 'High': 2.29, 'Low': 3.63, 'Close': 2.13} - {'Open': 48.46, 'High': 51.54, 'Low': 51.54, 'Close': 49.34}\n",
      "--------------------------------------------------------------------------------\n"
     ]
    },
    {
     "name": "stderr",
     "output_type": "stream",
     "text": [
      "100%|██████████| 25/25 [02:06<00:00,  5.07s/it]\n"
     ]
    },
    {
     "name": "stdout",
     "output_type": "stream",
     "text": [
      "\n",
      "MSE:  0.0046118555966621405\n",
      "Training time: 126.74500727653503\n",
      "metrics - mlflow\n",
      "lstm_30_for_20_32_hidden_layers_bi_True: {'Open': 12.94, 'High': 5.4, 'Low': 3.47, 'Close': 2.53} - {'Open': 47.14, 'High': 51.54, 'Low': 50.66, 'Close': 45.37}\n",
      "--------------------------------------------------------------------------------\n"
     ]
    },
    {
     "name": "stderr",
     "output_type": "stream",
     "text": [
      "100%|██████████| 25/25 [01:07<00:00,  2.71s/it]\n"
     ]
    },
    {
     "name": "stdout",
     "output_type": "stream",
     "text": [
      "\n",
      "MSE:  0.005466736575516944\n",
      "Training time: 67.72689890861511\n",
      "metrics - mlflow\n",
      "lstm_30_for_20_32_hidden_layers_bi_False: {'Open': 2.91, 'High': 12.68, 'Low': 1.96, 'Close': 2.2} - {'Open': 46.7, 'High': 50.22, 'Low': 51.54, 'Close': 51.98}\n",
      "--------------------------------------------------------------------------------\n"
     ]
    },
    {
     "name": "stderr",
     "output_type": "stream",
     "text": [
      "100%|██████████| 25/25 [01:48<00:00,  4.33s/it]\n"
     ]
    },
    {
     "name": "stdout",
     "output_type": "stream",
     "text": [
      "\n",
      "MSE:  0.0038016777431878904\n",
      "Training time: 108.19477868080139\n",
      "metrics - mlflow\n",
      "lstm_40_for_5_8_hidden_layers_bi_True: {'Open': 2.49, 'High': 1.15, 'Low': 2.38, 'Close': 3.24} - {'Open': 50.23, 'High': 52.07, 'Low': 52.53, 'Close': 50.69}\n",
      "--------------------------------------------------------------------------------\n"
     ]
    },
    {
     "name": "stderr",
     "output_type": "stream",
     "text": [
      "100%|██████████| 25/25 [01:16<00:00,  3.06s/it]\n"
     ]
    },
    {
     "name": "stdout",
     "output_type": "stream",
     "text": [
      "\n",
      "MSE:  0.00785745787792481\n",
      "Training time: 76.39310503005981\n",
      "metrics - mlflow\n",
      "lstm_40_for_5_8_hidden_layers_bi_False: {'Open': 1.88, 'High': 1.69, 'Low': 1.28, 'Close': 2.18} - {'Open': 56.68, 'High': 46.54, 'Low': 52.53, 'Close': 54.38}\n",
      "--------------------------------------------------------------------------------\n"
     ]
    },
    {
     "name": "stderr",
     "output_type": "stream",
     "text": [
      "100%|██████████| 25/25 [02:05<00:00,  5.02s/it]\n"
     ]
    },
    {
     "name": "stdout",
     "output_type": "stream",
     "text": [
      "\n",
      "MSE:  0.002376510269151857\n",
      "Training time: 125.50217390060425\n",
      "metrics - mlflow\n",
      "lstm_40_for_5_16_hidden_layers_bi_True: {'Open': 5.44, 'High': 4.75, 'Low': 5.69, 'Close': 3.63} - {'Open': 52.07, 'High': 51.61, 'Low': 47.93, 'Close': 51.61}\n",
      "--------------------------------------------------------------------------------\n"
     ]
    },
    {
     "name": "stderr",
     "output_type": "stream",
     "text": [
      "100%|██████████| 25/25 [01:15<00:00,  3.02s/it]\n"
     ]
    },
    {
     "name": "stdout",
     "output_type": "stream",
     "text": [
      "\n",
      "MSE:  0.0030537281462994334\n",
      "Training time: 75.62881517410278\n",
      "metrics - mlflow\n",
      "lstm_40_for_5_16_hidden_layers_bi_False: {'Open': 2.74, 'High': 2.65, 'Low': 2.13, 'Close': 2.0} - {'Open': 47.47, 'High': 52.07, 'Low': 49.77, 'Close': 54.38}\n",
      "--------------------------------------------------------------------------------\n"
     ]
    },
    {
     "name": "stderr",
     "output_type": "stream",
     "text": [
      "100%|██████████| 25/25 [01:38<00:00,  3.92s/it]"
     ]
    },
    {
     "name": "stdout",
     "output_type": "stream",
     "text": [
      "\n",
      "MSE:  0.0017577126922193342\n",
      "Training time: 98.05437588691711\n"
     ]
    },
    {
     "name": "stderr",
     "output_type": "stream",
     "text": [
      "\n"
     ]
    },
    {
     "name": "stdout",
     "output_type": "stream",
     "text": [
      "metrics - mlflow\n",
      "lstm_40_for_5_32_hidden_layers_bi_True: {'Open': 4.82, 'High': 3.49, 'Low': 3.17, 'Close': 2.05} - {'Open': 53.0, 'High': 50.69, 'Low': 54.84, 'Close': 53.0}\n",
      "--------------------------------------------------------------------------------\n"
     ]
    },
    {
     "name": "stderr",
     "output_type": "stream",
     "text": [
      "100%|██████████| 25/25 [01:03<00:00,  2.54s/it]\n"
     ]
    },
    {
     "name": "stdout",
     "output_type": "stream",
     "text": [
      "\n",
      "MSE:  0.0023124340088823093\n",
      "Training time: 63.53586149215698\n",
      "metrics - mlflow\n",
      "lstm_40_for_5_32_hidden_layers_bi_False: {'Open': 2.96, 'High': 1.71, 'Low': 3.49, 'Close': 4.08} - {'Open': 50.69, 'High': 49.77, 'Low': 48.39, 'Close': 49.31}\n",
      "--------------------------------------------------------------------------------\n"
     ]
    },
    {
     "name": "stderr",
     "output_type": "stream",
     "text": [
      "100%|██████████| 25/25 [01:28<00:00,  3.53s/it]\n"
     ]
    },
    {
     "name": "stdout",
     "output_type": "stream",
     "text": [
      "\n",
      "MSE:  0.00679153474405981\n",
      "Training time: 88.33564186096191\n",
      "metrics - mlflow\n",
      "lstm_40_for_10_8_hidden_layers_bi_True: {'Open': 3.26, 'High': 2.42, 'Low': 17.3, 'Close': 1.84} - {'Open': 45.16, 'High': 47.93, 'Low': 52.53, 'Close': 47.93}\n",
      "--------------------------------------------------------------------------------\n"
     ]
    },
    {
     "name": "stderr",
     "output_type": "stream",
     "text": [
      "100%|██████████| 25/25 [00:56<00:00,  2.28s/it]"
     ]
    },
    {
     "name": "stdout",
     "output_type": "stream",
     "text": [
      "\n",
      "MSE:  0.01161192122918482\n",
      "Training time: 56.888516426086426\n"
     ]
    },
    {
     "name": "stderr",
     "output_type": "stream",
     "text": [
      "\n"
     ]
    },
    {
     "name": "stdout",
     "output_type": "stream",
     "text": [
      "metrics - mlflow\n",
      "lstm_40_for_10_8_hidden_layers_bi_False: {'Open': 2.26, 'High': 2.31, 'Low': 3.51, 'Close': 1.94} - {'Open': 47.93, 'High': 47.47, 'Low': 52.07, 'Close': 58.99}\n",
      "--------------------------------------------------------------------------------\n"
     ]
    },
    {
     "name": "stderr",
     "output_type": "stream",
     "text": [
      "100%|██████████| 25/25 [01:44<00:00,  4.18s/it]\n"
     ]
    },
    {
     "name": "stdout",
     "output_type": "stream",
     "text": [
      "\n",
      "MSE:  0.0031157751039315304\n",
      "Training time: 104.39652919769287\n",
      "metrics - mlflow\n",
      "lstm_40_for_10_16_hidden_layers_bi_True: {'Open': 15.45, 'High': 4.37, 'Low': 4.15, 'Close': 1.95} - {'Open': 49.31, 'High': 51.61, 'Low': 48.39, 'Close': 56.68}\n",
      "--------------------------------------------------------------------------------\n"
     ]
    },
    {
     "name": "stderr",
     "output_type": "stream",
     "text": [
      "100%|██████████| 25/25 [01:26<00:00,  3.46s/it]\n"
     ]
    },
    {
     "name": "stdout",
     "output_type": "stream",
     "text": [
      "\n",
      "MSE:  0.005688537879345508\n",
      "Training time: 86.4420177936554\n",
      "metrics - mlflow\n",
      "lstm_40_for_10_16_hidden_layers_bi_False: {'Open': 2.93, 'High': 3.66, 'Low': 20.34, 'Close': 4.31} - {'Open': 48.85, 'High': 56.68, 'Low': 54.38, 'Close': 49.77}\n",
      "--------------------------------------------------------------------------------\n"
     ]
    },
    {
     "name": "stderr",
     "output_type": "stream",
     "text": [
      "100%|██████████| 25/25 [03:07<00:00,  7.51s/it]"
     ]
    },
    {
     "name": "stdout",
     "output_type": "stream",
     "text": [
      "\n",
      "MSE:  0.0024598433788364325\n",
      "Training time: 187.64771366119385\n"
     ]
    },
    {
     "name": "stderr",
     "output_type": "stream",
     "text": [
      "\n"
     ]
    },
    {
     "name": "stdout",
     "output_type": "stream",
     "text": [
      "metrics - mlflow\n",
      "lstm_40_for_10_32_hidden_layers_bi_True: {'Open': 5.04, 'High': 6.47, 'Low': 31.26, 'Close': 5.61} - {'Open': 51.61, 'High': 49.77, 'Low': 53.0, 'Close': 54.38}\n",
      "--------------------------------------------------------------------------------\n"
     ]
    },
    {
     "name": "stderr",
     "output_type": "stream",
     "text": [
      "100%|██████████| 25/25 [01:26<00:00,  3.47s/it]"
     ]
    },
    {
     "name": "stdout",
     "output_type": "stream",
     "text": [
      "\n",
      "MSE:  0.00311626242294621\n",
      "Training time: 86.65502786636353\n"
     ]
    },
    {
     "name": "stderr",
     "output_type": "stream",
     "text": [
      "\n"
     ]
    },
    {
     "name": "stdout",
     "output_type": "stream",
     "text": [
      "metrics - mlflow\n",
      "lstm_40_for_10_32_hidden_layers_bi_False: {'Open': 3.57, 'High': 3.97, 'Low': 7.56, 'Close': 10.04} - {'Open': 49.77, 'High': 51.61, 'Low': 50.69, 'Close': 53.0}\n",
      "--------------------------------------------------------------------------------\n"
     ]
    },
    {
     "name": "stderr",
     "output_type": "stream",
     "text": [
      "100%|██████████| 25/25 [01:40<00:00,  4.03s/it]\n"
     ]
    },
    {
     "name": "stdout",
     "output_type": "stream",
     "text": [
      "\n",
      "MSE:  0.010300234604913455\n",
      "Training time: 100.66448450088501\n",
      "metrics - mlflow\n",
      "lstm_30_for_30_8_hidden_layers_bi_True: {'Open': 2.19, 'High': 2.17, 'Low': 1.99, 'Close': 1.36} - {'Open': 56.39, 'High': 51.98, 'Low': 46.26, 'Close': 50.22}\n",
      "--------------------------------------------------------------------------------\n"
     ]
    },
    {
     "name": "stderr",
     "output_type": "stream",
     "text": [
      "100%|██████████| 25/25 [01:12<00:00,  2.92s/it]\n"
     ]
    },
    {
     "name": "stdout",
     "output_type": "stream",
     "text": [
      "\n",
      "MSE:  0.022782932966947556\n",
      "Training time: 72.96689510345459\n",
      "metrics - mlflow\n",
      "lstm_30_for_30_8_hidden_layers_bi_False: {'Open': 1.61, 'High': 1.97, 'Low': 1.68, 'Close': 1.96} - {'Open': 49.34, 'High': 53.74, 'Low': 44.05, 'Close': 51.1}\n",
      "--------------------------------------------------------------------------------\n"
     ]
    },
    {
     "name": "stderr",
     "output_type": "stream",
     "text": [
      "100%|██████████| 25/25 [01:47<00:00,  4.31s/it]\n"
     ]
    },
    {
     "name": "stdout",
     "output_type": "stream",
     "text": [
      "\n",
      "MSE:  0.008029764589781944\n",
      "Training time: 107.83077692985535\n",
      "metrics - mlflow\n",
      "lstm_30_for_30_16_hidden_layers_bi_True: {'Open': 1.92, 'High': 1.67, 'Low': 1.63, 'Close': 1.76} - {'Open': 48.02, 'High': 57.27, 'Low': 49.34, 'Close': 54.19}\n",
      "--------------------------------------------------------------------------------\n"
     ]
    },
    {
     "name": "stderr",
     "output_type": "stream",
     "text": [
      "100%|██████████| 25/25 [01:08<00:00,  2.74s/it]\n"
     ]
    },
    {
     "name": "stdout",
     "output_type": "stream",
     "text": [
      "\n",
      "MSE:  0.0075391288130329205\n",
      "Training time: 68.48989510536194\n",
      "metrics - mlflow\n",
      "lstm_30_for_30_16_hidden_layers_bi_False: {'Open': 1.7, 'High': 1.59, 'Low': 1.82, 'Close': 1.71} - {'Open': 50.66, 'High': 51.1, 'Low': 46.7, 'Close': 46.7}\n",
      "--------------------------------------------------------------------------------\n"
     ]
    },
    {
     "name": "stderr",
     "output_type": "stream",
     "text": [
      "100%|██████████| 25/25 [01:34<00:00,  3.78s/it]"
     ]
    },
    {
     "name": "stdout",
     "output_type": "stream",
     "text": [
      "\n",
      "MSE:  0.007102035326310075\n",
      "Training time: 94.60258507728577\n"
     ]
    },
    {
     "name": "stderr",
     "output_type": "stream",
     "text": [
      "\n"
     ]
    },
    {
     "name": "stdout",
     "output_type": "stream",
     "text": [
      "metrics - mlflow\n",
      "lstm_30_for_30_32_hidden_layers_bi_True: {'Open': 2.1, 'High': 1.87, 'Low': 2.51, 'Close': 1.92} - {'Open': 49.78, 'High': 55.07, 'Low': 48.9, 'Close': 47.58}\n",
      "--------------------------------------------------------------------------------\n"
     ]
    },
    {
     "name": "stderr",
     "output_type": "stream",
     "text": [
      "100%|██████████| 25/25 [00:52<00:00,  2.11s/it]"
     ]
    },
    {
     "name": "stdout",
     "output_type": "stream",
     "text": [
      "\n",
      "MSE:  0.007369718568112988\n",
      "Training time: 52.79316854476929\n"
     ]
    },
    {
     "name": "stderr",
     "output_type": "stream",
     "text": [
      "\n"
     ]
    },
    {
     "name": "stdout",
     "output_type": "stream",
     "text": [
      "metrics - mlflow\n",
      "lstm_30_for_30_32_hidden_layers_bi_False: {'Open': 8.57, 'High': 2.15, 'Low': 1.94, 'Close': 1.59} - {'Open': 53.3, 'High': 52.86, 'Low': 47.14, 'Close': 48.02}\n",
      "--------------------------------------------------------------------------------\n"
     ]
    },
    {
     "name": "stderr",
     "output_type": "stream",
     "text": [
      "100%|██████████| 25/25 [01:48<00:00,  4.32s/it]\n"
     ]
    },
    {
     "name": "stdout",
     "output_type": "stream",
     "text": [
      "\n",
      "MSE:  0.009941053469307147\n",
      "Training time: 108.09502530097961\n",
      "metrics - mlflow\n",
      "lstm_40_for_20_8_hidden_layers_bi_True: {'Open': 2.03, 'High': 2.0, 'Low': 1.41, 'Close': 2.31} - {'Open': 52.53, 'High': 45.16, 'Low': 55.76, 'Close': 47.47}\n",
      "--------------------------------------------------------------------------------\n"
     ]
    },
    {
     "name": "stderr",
     "output_type": "stream",
     "text": [
      "100%|██████████| 25/25 [00:29<00:00,  1.19s/it]"
     ]
    },
    {
     "name": "stdout",
     "output_type": "stream",
     "text": [
      "\n",
      "MSE:  0.01762957960510483\n",
      "Training time: 29.743046283721924\n"
     ]
    },
    {
     "name": "stderr",
     "output_type": "stream",
     "text": [
      "\n"
     ]
    },
    {
     "name": "stdout",
     "output_type": "stream",
     "text": [
      "metrics - mlflow\n",
      "lstm_40_for_20_8_hidden_layers_bi_False: {'Open': 1.6, 'High': 1.55, 'Low': 1.32, 'Close': 4.08} - {'Open': 52.53, 'High': 55.3, 'Low': 50.23, 'Close': 50.23}\n",
      "--------------------------------------------------------------------------------\n"
     ]
    },
    {
     "name": "stderr",
     "output_type": "stream",
     "text": [
      "100%|██████████| 25/25 [00:52<00:00,  2.10s/it]"
     ]
    },
    {
     "name": "stdout",
     "output_type": "stream",
     "text": [
      "\n",
      "MSE:  0.005602586862201301\n",
      "Training time: 52.43489623069763\n"
     ]
    },
    {
     "name": "stderr",
     "output_type": "stream",
     "text": [
      "\n"
     ]
    },
    {
     "name": "stdout",
     "output_type": "stream",
     "text": [
      "metrics - mlflow\n",
      "lstm_40_for_20_16_hidden_layers_bi_True: {'Open': 1.79, 'High': 2.68, 'Low': 2.18, 'Close': 21.68} - {'Open': 50.69, 'High': 49.31, 'Low': 52.53, 'Close': 48.85}\n",
      "--------------------------------------------------------------------------------\n"
     ]
    },
    {
     "name": "stderr",
     "output_type": "stream",
     "text": [
      "100%|██████████| 25/25 [00:29<00:00,  1.16s/it]"
     ]
    },
    {
     "name": "stdout",
     "output_type": "stream",
     "text": [
      "\n",
      "MSE:  0.006515641902716687\n",
      "Training time: 29.008289337158203\n"
     ]
    },
    {
     "name": "stderr",
     "output_type": "stream",
     "text": [
      "\n"
     ]
    },
    {
     "name": "stdout",
     "output_type": "stream",
     "text": [
      "metrics - mlflow\n",
      "lstm_40_for_20_16_hidden_layers_bi_False: {'Open': 1.82, 'High': 8.34, 'Low': 1.98, 'Close': 1.54} - {'Open': 50.69, 'High': 49.77, 'Low': 47.93, 'Close': 44.24}\n",
      "--------------------------------------------------------------------------------\n"
     ]
    },
    {
     "name": "stderr",
     "output_type": "stream",
     "text": [
      "100%|██████████| 25/25 [01:05<00:00,  2.61s/it]"
     ]
    },
    {
     "name": "stdout",
     "output_type": "stream",
     "text": [
      "\n",
      "MSE:  0.00465810803983074\n",
      "Training time: 65.20417356491089\n"
     ]
    },
    {
     "name": "stderr",
     "output_type": "stream",
     "text": [
      "\n"
     ]
    },
    {
     "name": "stdout",
     "output_type": "stream",
     "text": [
      "metrics - mlflow\n",
      "lstm_40_for_20_32_hidden_layers_bi_True: {'Open': 2.49, 'High': 2.13, 'Low': 9.14, 'Close': 3.64} - {'Open': 51.15, 'High': 52.07, 'Low': 51.15, 'Close': 49.31}\n",
      "--------------------------------------------------------------------------------\n"
     ]
    },
    {
     "name": "stderr",
     "output_type": "stream",
     "text": [
      "100%|██████████| 25/25 [00:32<00:00,  1.32s/it]"
     ]
    },
    {
     "name": "stdout",
     "output_type": "stream",
     "text": [
      "\n",
      "MSE:  0.0059767051492459495\n",
      "Training time: 32.95271134376526\n"
     ]
    },
    {
     "name": "stderr",
     "output_type": "stream",
     "text": [
      "\n"
     ]
    },
    {
     "name": "stdout",
     "output_type": "stream",
     "text": [
      "metrics - mlflow\n",
      "lstm_40_for_20_32_hidden_layers_bi_False: {'Open': 2.35, 'High': 1.92, 'Low': 2.21, 'Close': 1.74} - {'Open': 53.0, 'High': 52.07, 'Low': 53.0, 'Close': 47.93}\n",
      "--------------------------------------------------------------------------------\n"
     ]
    },
    {
     "name": "stderr",
     "output_type": "stream",
     "text": [
      "100%|██████████| 25/25 [00:50<00:00,  2.00s/it]"
     ]
    },
    {
     "name": "stdout",
     "output_type": "stream",
     "text": [
      "\n",
      "MSE:  0.011597326294017525\n",
      "Training time: 50.06794333457947\n"
     ]
    },
    {
     "name": "stderr",
     "output_type": "stream",
     "text": [
      "\n"
     ]
    },
    {
     "name": "stdout",
     "output_type": "stream",
     "text": [
      "metrics - mlflow\n",
      "lstm_40_for_30_8_hidden_layers_bi_True: {'Open': 5.57, 'High': 1.92, 'Low': 2.83, 'Close': 1.81} - {'Open': 53.0, 'High': 46.54, 'Low': 45.16, 'Close': 47.0}\n",
      "--------------------------------------------------------------------------------\n"
     ]
    },
    {
     "name": "stderr",
     "output_type": "stream",
     "text": [
      "100%|██████████| 25/25 [00:28<00:00,  1.16s/it]"
     ]
    },
    {
     "name": "stdout",
     "output_type": "stream",
     "text": [
      "\n",
      "MSE:  0.017385444317299586\n",
      "Training time: 28.91136884689331\n"
     ]
    },
    {
     "name": "stderr",
     "output_type": "stream",
     "text": [
      "\n"
     ]
    },
    {
     "name": "stdout",
     "output_type": "stream",
     "text": [
      "metrics - mlflow\n",
      "lstm_40_for_30_8_hidden_layers_bi_False: {'Open': 7.84, 'High': 1.51, 'Low': 1.86, 'Close': 1.51} - {'Open': 51.61, 'High': 45.62, 'Low': 49.31, 'Close': 47.93}\n",
      "--------------------------------------------------------------------------------\n"
     ]
    },
    {
     "name": "stderr",
     "output_type": "stream",
     "text": [
      "100%|██████████| 25/25 [00:57<00:00,  2.31s/it]"
     ]
    },
    {
     "name": "stdout",
     "output_type": "stream",
     "text": [
      "\n",
      "MSE:  0.0072446043710582535\n",
      "Training time: 57.85017418861389\n"
     ]
    },
    {
     "name": "stderr",
     "output_type": "stream",
     "text": [
      "\n"
     ]
    },
    {
     "name": "stdout",
     "output_type": "stream",
     "text": [
      "metrics - mlflow\n",
      "lstm_40_for_30_16_hidden_layers_bi_True: {'Open': 2.01, 'High': 3.92, 'Low': 2.37, 'Close': 1.91} - {'Open': 51.61, 'High': 54.84, 'Low': 50.23, 'Close': 50.69}\n",
      "--------------------------------------------------------------------------------\n"
     ]
    },
    {
     "name": "stderr",
     "output_type": "stream",
     "text": [
      "100%|██████████| 25/25 [00:30<00:00,  1.24s/it]"
     ]
    },
    {
     "name": "stdout",
     "output_type": "stream",
     "text": [
      "\n",
      "MSE:  0.010361483893715419\n",
      "Training time: 30.898753881454468\n"
     ]
    },
    {
     "name": "stderr",
     "output_type": "stream",
     "text": [
      "\n"
     ]
    },
    {
     "name": "stdout",
     "output_type": "stream",
     "text": [
      "metrics - mlflow\n",
      "lstm_40_for_30_16_hidden_layers_bi_False: {'Open': 1.75, 'High': 2.11, 'Low': 1.68, 'Close': 1.32} - {'Open': 48.85, 'High': 52.53, 'Low': 53.46, 'Close': 48.39}\n",
      "--------------------------------------------------------------------------------\n"
     ]
    },
    {
     "name": "stderr",
     "output_type": "stream",
     "text": [
      "100%|██████████| 25/25 [01:01<00:00,  2.47s/it]"
     ]
    },
    {
     "name": "stdout",
     "output_type": "stream",
     "text": [
      "\n",
      "MSE:  0.0074551180542375035\n",
      "Training time: 61.87123227119446\n"
     ]
    },
    {
     "name": "stderr",
     "output_type": "stream",
     "text": [
      "\n"
     ]
    },
    {
     "name": "stdout",
     "output_type": "stream",
     "text": [
      "metrics - mlflow\n",
      "lstm_40_for_30_32_hidden_layers_bi_True: {'Open': 3.83, 'High': 3.39, 'Low': 3.9, 'Close': 2.37} - {'Open': 54.84, 'High': 53.0, 'Low': 53.92, 'Close': 47.93}\n",
      "--------------------------------------------------------------------------------\n"
     ]
    },
    {
     "name": "stderr",
     "output_type": "stream",
     "text": [
      "100%|██████████| 25/25 [00:37<00:00,  1.50s/it]"
     ]
    },
    {
     "name": "stdout",
     "output_type": "stream",
     "text": [
      "\n",
      "MSE:  0.007408083828452688\n",
      "Training time: 37.452311277389526\n"
     ]
    },
    {
     "name": "stderr",
     "output_type": "stream",
     "text": [
      "\n"
     ]
    },
    {
     "name": "stdout",
     "output_type": "stream",
     "text": [
      "metrics - mlflow\n",
      "lstm_40_for_30_32_hidden_layers_bi_False: {'Open': 2.4, 'High': 1.97, 'Low': 2.06, 'Close': 3.42} - {'Open': 50.69, 'High': 51.15, 'Low': 51.15, 'Close': 45.62}\n",
      "--------------------------------------------------------------------------------\n"
     ]
    },
    {
     "name": "stderr",
     "output_type": "stream",
     "text": [
      "100%|██████████| 25/25 [00:59<00:00,  2.39s/it]"
     ]
    },
    {
     "name": "stdout",
     "output_type": "stream",
     "text": [
      "\n",
      "MSE:  0.01018651076950706\n",
      "Training time: 59.86350226402283\n"
     ]
    },
    {
     "name": "stderr",
     "output_type": "stream",
     "text": [
      "\n"
     ]
    },
    {
     "name": "stdout",
     "output_type": "stream",
     "text": [
      "metrics - mlflow\n",
      "lstm_50_for_5_8_hidden_layers_bi_True: {'Open': 1.56, 'High': 1.39, 'Low': 1.81, 'Close': 3.89} - {'Open': 54.11, 'High': 56.52, 'Low': 49.28, 'Close': 42.03}\n",
      "--------------------------------------------------------------------------------\n"
     ]
    },
    {
     "name": "stderr",
     "output_type": "stream",
     "text": [
      "100%|██████████| 25/25 [00:31<00:00,  1.26s/it]"
     ]
    },
    {
     "name": "stdout",
     "output_type": "stream",
     "text": [
      "\n",
      "MSE:  0.013079751927692156\n",
      "Training time: 31.6049485206604\n"
     ]
    },
    {
     "name": "stderr",
     "output_type": "stream",
     "text": [
      "\n"
     ]
    },
    {
     "name": "stdout",
     "output_type": "stream",
     "text": [
      "metrics - mlflow\n",
      "lstm_50_for_5_8_hidden_layers_bi_False: {'Open': 1.73, 'High': 1.25, 'Low': 1.92, 'Close': 1.13} - {'Open': 51.69, 'High': 49.28, 'Low': 57.97, 'Close': 44.44}\n",
      "--------------------------------------------------------------------------------\n"
     ]
    },
    {
     "name": "stderr",
     "output_type": "stream",
     "text": [
      "100%|██████████| 25/25 [01:02<00:00,  2.51s/it]"
     ]
    },
    {
     "name": "stdout",
     "output_type": "stream",
     "text": [
      "\n",
      "MSE:  0.0022322522664371017\n",
      "Training time: 62.85164213180542\n"
     ]
    },
    {
     "name": "stderr",
     "output_type": "stream",
     "text": [
      "\n"
     ]
    },
    {
     "name": "stdout",
     "output_type": "stream",
     "text": [
      "metrics - mlflow\n",
      "lstm_50_for_5_16_hidden_layers_bi_True: {'Open': 2.91, 'High': 1.27, 'Low': 8.72, 'Close': 2.88} - {'Open': 54.11, 'High': 51.69, 'Low': 46.86, 'Close': 54.11}\n",
      "--------------------------------------------------------------------------------\n"
     ]
    },
    {
     "name": "stderr",
     "output_type": "stream",
     "text": [
      "100%|██████████| 25/25 [00:33<00:00,  1.32s/it]"
     ]
    },
    {
     "name": "stdout",
     "output_type": "stream",
     "text": [
      "\n",
      "MSE:  0.003089914022264286\n",
      "Training time: 33.015870571136475\n"
     ]
    },
    {
     "name": "stderr",
     "output_type": "stream",
     "text": [
      "\n"
     ]
    },
    {
     "name": "stdout",
     "output_type": "stream",
     "text": [
      "metrics - mlflow\n",
      "lstm_50_for_5_16_hidden_layers_bi_False: {'Open': 1.41, 'High': 1.37, 'Low': 8.35, 'Close': 2.03} - {'Open': 47.34, 'High': 51.69, 'Low': 48.79, 'Close': 56.04}\n",
      "--------------------------------------------------------------------------------\n"
     ]
    },
    {
     "name": "stderr",
     "output_type": "stream",
     "text": [
      "100%|██████████| 25/25 [01:17<00:00,  3.11s/it]"
     ]
    },
    {
     "name": "stdout",
     "output_type": "stream",
     "text": [
      "\n",
      "MSE:  0.0018657083184315036\n",
      "Training time: 77.71041131019592\n"
     ]
    },
    {
     "name": "stderr",
     "output_type": "stream",
     "text": [
      "\n"
     ]
    },
    {
     "name": "stdout",
     "output_type": "stream",
     "text": [
      "metrics - mlflow\n",
      "lstm_50_for_5_32_hidden_layers_bi_True: {'Open': 3.79, 'High': 4.8, 'Low': 3.82, 'Close': 3.6} - {'Open': 51.21, 'High': 52.17, 'Low': 54.59, 'Close': 41.06}\n",
      "--------------------------------------------------------------------------------\n"
     ]
    },
    {
     "name": "stderr",
     "output_type": "stream",
     "text": [
      "100%|██████████| 25/25 [00:40<00:00,  1.63s/it]"
     ]
    },
    {
     "name": "stdout",
     "output_type": "stream",
     "text": [
      "\n",
      "MSE:  0.0021989324416678687\n",
      "Training time: 40.848565101623535\n"
     ]
    },
    {
     "name": "stderr",
     "output_type": "stream",
     "text": [
      "\n"
     ]
    },
    {
     "name": "stdout",
     "output_type": "stream",
     "text": [
      "metrics - mlflow\n",
      "lstm_50_for_5_32_hidden_layers_bi_False: {'Open': 2.45, 'High': 11.17, 'Low': 2.88, 'Close': 3.09} - {'Open': 47.83, 'High': 47.83, 'Low': 46.86, 'Close': 45.89}\n",
      "--------------------------------------------------------------------------------\n"
     ]
    },
    {
     "name": "stderr",
     "output_type": "stream",
     "text": [
      "100%|██████████| 25/25 [00:58<00:00,  2.35s/it]"
     ]
    },
    {
     "name": "stdout",
     "output_type": "stream",
     "text": [
      "\n",
      "MSE:  0.007890255065061726\n",
      "Training time: 58.86269974708557\n"
     ]
    },
    {
     "name": "stderr",
     "output_type": "stream",
     "text": [
      "\n"
     ]
    },
    {
     "name": "stdout",
     "output_type": "stream",
     "text": [
      "metrics - mlflow\n",
      "lstm_50_for_10_8_hidden_layers_bi_True: {'Open': 1.9, 'High': 1.82, 'Low': 3.12, 'Close': 2.36} - {'Open': 55.56, 'High': 52.17, 'Low': 55.07, 'Close': 48.79}\n",
      "--------------------------------------------------------------------------------\n"
     ]
    },
    {
     "name": "stderr",
     "output_type": "stream",
     "text": [
      "100%|██████████| 25/25 [00:30<00:00,  1.23s/it]"
     ]
    },
    {
     "name": "stdout",
     "output_type": "stream",
     "text": [
      "\n",
      "MSE:  0.012288486316370277\n",
      "Training time: 30.844522714614868\n"
     ]
    },
    {
     "name": "stderr",
     "output_type": "stream",
     "text": [
      "\n"
     ]
    },
    {
     "name": "stdout",
     "output_type": "stream",
     "text": [
      "metrics - mlflow\n",
      "lstm_50_for_10_8_hidden_layers_bi_False: {'Open': 2.49, 'High': 2.47, 'Low': 3.22, 'Close': 2.4} - {'Open': 53.62, 'High': 48.79, 'Low': 45.89, 'Close': 49.76}\n",
      "--------------------------------------------------------------------------------\n"
     ]
    },
    {
     "name": "stderr",
     "output_type": "stream",
     "text": [
      "100%|██████████| 25/25 [01:02<00:00,  2.49s/it]"
     ]
    },
    {
     "name": "stdout",
     "output_type": "stream",
     "text": [
      "\n",
      "MSE:  0.0032826455695053134\n",
      "Training time: 62.23956084251404\n"
     ]
    },
    {
     "name": "stderr",
     "output_type": "stream",
     "text": [
      "\n"
     ]
    },
    {
     "name": "stdout",
     "output_type": "stream",
     "text": [
      "metrics - mlflow\n",
      "lstm_50_for_10_16_hidden_layers_bi_True: {'Open': 4.25, 'High': 6.13, 'Low': 2.75, 'Close': 61.67} - {'Open': 49.76, 'High': 48.31, 'Low': 47.34, 'Close': 48.31}\n",
      "--------------------------------------------------------------------------------\n"
     ]
    },
    {
     "name": "stderr",
     "output_type": "stream",
     "text": [
      "100%|██████████| 25/25 [00:33<00:00,  1.33s/it]"
     ]
    },
    {
     "name": "stdout",
     "output_type": "stream",
     "text": [
      "\n",
      "MSE:  0.0061932007710521035\n",
      "Training time: 33.29436993598938\n"
     ]
    },
    {
     "name": "stderr",
     "output_type": "stream",
     "text": [
      "\n"
     ]
    },
    {
     "name": "stdout",
     "output_type": "stream",
     "text": [
      "metrics - mlflow\n",
      "lstm_50_for_10_16_hidden_layers_bi_False: {'Open': 2.12, 'High': 5.33, 'Low': 2.15, 'Close': 2.62} - {'Open': 50.24, 'High': 43.48, 'Low': 48.31, 'Close': 48.31}\n",
      "--------------------------------------------------------------------------------\n"
     ]
    },
    {
     "name": "stderr",
     "output_type": "stream",
     "text": [
      "100%|██████████| 25/25 [01:16<00:00,  3.07s/it]"
     ]
    },
    {
     "name": "stdout",
     "output_type": "stream",
     "text": [
      "\n",
      "MSE:  0.0031261300139773926\n",
      "Training time: 76.81913638114929\n"
     ]
    },
    {
     "name": "stderr",
     "output_type": "stream",
     "text": [
      "\n"
     ]
    },
    {
     "name": "stdout",
     "output_type": "stream",
     "text": [
      "metrics - mlflow\n",
      "lstm_50_for_10_32_hidden_layers_bi_True: {'Open': 4.43, 'High': 5.34, 'Low': 3.95, 'Close': 5.65} - {'Open': 48.31, 'High': 51.69, 'Low': 49.28, 'Close': 50.72}\n",
      "--------------------------------------------------------------------------------\n"
     ]
    },
    {
     "name": "stderr",
     "output_type": "stream",
     "text": [
      "100%|██████████| 25/25 [00:41<00:00,  1.64s/it]"
     ]
    },
    {
     "name": "stdout",
     "output_type": "stream",
     "text": [
      "\n",
      "MSE:  0.0033447744029287537\n",
      "Training time: 41.04962754249573\n"
     ]
    },
    {
     "name": "stderr",
     "output_type": "stream",
     "text": [
      "\n"
     ]
    },
    {
     "name": "stdout",
     "output_type": "stream",
     "text": [
      "metrics - mlflow\n",
      "lstm_50_for_10_32_hidden_layers_bi_False: {'Open': 1.82, 'High': 3.28, 'Low': 2.69, 'Close': 2.32} - {'Open': 53.14, 'High': 54.59, 'Low': 45.89, 'Close': 47.34}\n",
      "--------------------------------------------------------------------------------\n"
     ]
    },
    {
     "name": "stderr",
     "output_type": "stream",
     "text": [
      "100%|██████████| 25/25 [00:59<00:00,  2.37s/it]"
     ]
    },
    {
     "name": "stdout",
     "output_type": "stream",
     "text": [
      "\n",
      "MSE:  0.007759085963838375\n",
      "Training time: 59.22964954376221\n"
     ]
    },
    {
     "name": "stderr",
     "output_type": "stream",
     "text": [
      "\n"
     ]
    },
    {
     "name": "stdout",
     "output_type": "stream",
     "text": [
      "metrics - mlflow\n",
      "lstm_50_for_20_8_hidden_layers_bi_True: {'Open': 1.66, 'High': 1.42, 'Low': 1.47, 'Close': 1.24} - {'Open': 49.28, 'High': 49.28, 'Low': 47.83, 'Close': 44.44}\n",
      "--------------------------------------------------------------------------------\n"
     ]
    },
    {
     "name": "stderr",
     "output_type": "stream",
     "text": [
      "100%|██████████| 25/25 [00:31<00:00,  1.25s/it]"
     ]
    },
    {
     "name": "stdout",
     "output_type": "stream",
     "text": [
      "\n",
      "MSE:  0.015151658811821388\n",
      "Training time: 31.36388063430786\n"
     ]
    },
    {
     "name": "stderr",
     "output_type": "stream",
     "text": [
      "\n"
     ]
    },
    {
     "name": "stdout",
     "output_type": "stream",
     "text": [
      "metrics - mlflow\n",
      "lstm_50_for_20_8_hidden_layers_bi_False: {'Open': 2.65, 'High': 1.92, 'Low': 1.35, 'Close': 1.93} - {'Open': 59.9, 'High': 50.24, 'Low': 49.76, 'Close': 46.38}\n",
      "--------------------------------------------------------------------------------\n"
     ]
    },
    {
     "name": "stderr",
     "output_type": "stream",
     "text": [
      "100%|██████████| 25/25 [01:02<00:00,  2.49s/it]"
     ]
    },
    {
     "name": "stdout",
     "output_type": "stream",
     "text": [
      "\n",
      "MSE:  0.005542741327259976\n",
      "Training time: 62.23069715499878\n"
     ]
    },
    {
     "name": "stderr",
     "output_type": "stream",
     "text": [
      "\n"
     ]
    },
    {
     "name": "stdout",
     "output_type": "stream",
     "text": [
      "metrics - mlflow\n",
      "lstm_50_for_20_16_hidden_layers_bi_True: {'Open': 1.73, 'High': 2.65, 'Low': 1.64, 'Close': 1.58} - {'Open': 51.21, 'High': 46.86, 'Low': 45.41, 'Close': 44.44}\n",
      "--------------------------------------------------------------------------------\n"
     ]
    },
    {
     "name": "stderr",
     "output_type": "stream",
     "text": [
      "100%|██████████| 25/25 [00:33<00:00,  1.32s/it]"
     ]
    },
    {
     "name": "stdout",
     "output_type": "stream",
     "text": [
      "\n",
      "MSE:  0.007601755330912196\n",
      "Training time: 33.050156116485596\n"
     ]
    },
    {
     "name": "stderr",
     "output_type": "stream",
     "text": [
      "\n"
     ]
    },
    {
     "name": "stdout",
     "output_type": "stream",
     "text": [
      "metrics - mlflow\n",
      "lstm_50_for_20_16_hidden_layers_bi_False: {'Open': 1.67, 'High': 4.19, 'Low': 2.0, 'Close': 1.63} - {'Open': 43.96, 'High': 53.62, 'Low': 50.24, 'Close': 50.72}\n",
      "--------------------------------------------------------------------------------\n"
     ]
    },
    {
     "name": "stderr",
     "output_type": "stream",
     "text": [
      "100%|██████████| 25/25 [01:16<00:00,  3.06s/it]"
     ]
    },
    {
     "name": "stdout",
     "output_type": "stream",
     "text": [
      "\n",
      "MSE:  0.004565692632100903\n",
      "Training time: 76.6056113243103\n"
     ]
    },
    {
     "name": "stderr",
     "output_type": "stream",
     "text": [
      "\n"
     ]
    },
    {
     "name": "stdout",
     "output_type": "stream",
     "text": [
      "metrics - mlflow\n",
      "lstm_50_for_20_32_hidden_layers_bi_True: {'Open': 3.3, 'High': 3.17, 'Low': 4.69, 'Close': 1.8} - {'Open': 52.17, 'High': 50.24, 'Low': 46.86, 'Close': 48.31}\n",
      "--------------------------------------------------------------------------------\n"
     ]
    },
    {
     "name": "stderr",
     "output_type": "stream",
     "text": [
      "100%|██████████| 25/25 [00:40<00:00,  1.62s/it]"
     ]
    },
    {
     "name": "stdout",
     "output_type": "stream",
     "text": [
      "\n",
      "MSE:  0.005713524189419472\n",
      "Training time: 40.60936164855957\n"
     ]
    },
    {
     "name": "stderr",
     "output_type": "stream",
     "text": [
      "\n"
     ]
    },
    {
     "name": "stdout",
     "output_type": "stream",
     "text": [
      "metrics - mlflow\n",
      "lstm_50_for_20_32_hidden_layers_bi_False: {'Open': 3.44, 'High': 1.55, 'Low': 1.59, 'Close': 2.27} - {'Open': 51.21, 'High': 48.79, 'Low': 49.76, 'Close': 43.0}\n",
      "--------------------------------------------------------------------------------\n"
     ]
    },
    {
     "name": "stderr",
     "output_type": "stream",
     "text": [
      "100%|██████████| 25/25 [00:49<00:00,  1.97s/it]"
     ]
    },
    {
     "name": "stdout",
     "output_type": "stream",
     "text": [
      "\n",
      "MSE:  0.013316104833323222\n",
      "Training time: 49.24062943458557\n"
     ]
    },
    {
     "name": "stderr",
     "output_type": "stream",
     "text": [
      "\n"
     ]
    },
    {
     "name": "stdout",
     "output_type": "stream",
     "text": [
      "metrics - mlflow\n",
      "lstm_40_for_40_8_hidden_layers_bi_True: {'Open': 2.14, 'High': 1.44, 'Low': 1.63, 'Close': 1.48} - {'Open': 47.0, 'High': 50.69, 'Low': 51.61, 'Close': 45.16}\n",
      "--------------------------------------------------------------------------------\n"
     ]
    },
    {
     "name": "stderr",
     "output_type": "stream",
     "text": [
      "100%|██████████| 25/25 [00:26<00:00,  1.07s/it]"
     ]
    },
    {
     "name": "stdout",
     "output_type": "stream",
     "text": [
      "\n",
      "MSE:  0.022609039066502683\n",
      "Training time: 26.861863374710083\n"
     ]
    },
    {
     "name": "stderr",
     "output_type": "stream",
     "text": [
      "\n"
     ]
    },
    {
     "name": "stdout",
     "output_type": "stream",
     "text": [
      "metrics - mlflow\n",
      "lstm_40_for_40_8_hidden_layers_bi_False: {'Open': 1.53, 'High': 1.43, 'Low': 5.11, 'Close': 6.63} - {'Open': 43.32, 'High': 45.16, 'Low': 47.0, 'Close': 47.47}\n",
      "--------------------------------------------------------------------------------\n"
     ]
    },
    {
     "name": "stderr",
     "output_type": "stream",
     "text": [
      "100%|██████████| 25/25 [01:02<00:00,  2.51s/it]"
     ]
    },
    {
     "name": "stdout",
     "output_type": "stream",
     "text": [
      "\n",
      "MSE:  0.009710729211712113\n",
      "Training time: 62.85620069503784\n"
     ]
    },
    {
     "name": "stderr",
     "output_type": "stream",
     "text": [
      "\n"
     ]
    },
    {
     "name": "stdout",
     "output_type": "stream",
     "text": [
      "metrics - mlflow\n",
      "lstm_40_for_40_16_hidden_layers_bi_True: {'Open': 3.08, 'High': 3.36, 'Low': 3.94, 'Close': 5.42} - {'Open': 51.15, 'High': 49.31, 'Low': 49.31, 'Close': 51.61}\n",
      "--------------------------------------------------------------------------------\n"
     ]
    },
    {
     "name": "stderr",
     "output_type": "stream",
     "text": [
      "100%|██████████| 25/25 [00:37<00:00,  1.51s/it]"
     ]
    },
    {
     "name": "stdout",
     "output_type": "stream",
     "text": [
      "\n",
      "MSE:  0.011898572431304134\n",
      "Training time: 37.62834906578064\n"
     ]
    },
    {
     "name": "stderr",
     "output_type": "stream",
     "text": [
      "\n"
     ]
    },
    {
     "name": "stdout",
     "output_type": "stream",
     "text": [
      "metrics - mlflow\n",
      "lstm_40_for_40_16_hidden_layers_bi_False: {'Open': 3.34, 'High': 2.8, 'Low': 64.8, 'Close': 2.57} - {'Open': 44.7, 'High': 44.7, 'Low': 49.31, 'Close': 53.0}\n",
      "--------------------------------------------------------------------------------\n"
     ]
    },
    {
     "name": "stderr",
     "output_type": "stream",
     "text": [
      "100%|██████████| 25/25 [01:17<00:00,  3.12s/it]"
     ]
    },
    {
     "name": "stdout",
     "output_type": "stream",
     "text": [
      "\n",
      "MSE:  0.009305915454975687\n",
      "Training time: 77.94526362419128\n"
     ]
    },
    {
     "name": "stderr",
     "output_type": "stream",
     "text": [
      "\n"
     ]
    },
    {
     "name": "stdout",
     "output_type": "stream",
     "text": [
      "metrics - mlflow\n",
      "lstm_40_for_40_32_hidden_layers_bi_True: {'Open': 2.09, 'High': 2.11, 'Low': 3.55, 'Close': 12.06} - {'Open': 49.31, 'High': 49.31, 'Low': 47.0, 'Close': 48.85}\n",
      "--------------------------------------------------------------------------------\n"
     ]
    },
    {
     "name": "stderr",
     "output_type": "stream",
     "text": [
      "100%|██████████| 25/25 [00:35<00:00,  1.43s/it]"
     ]
    },
    {
     "name": "stdout",
     "output_type": "stream",
     "text": [
      "\n",
      "MSE:  0.009491855941283016\n",
      "Training time: 35.82715630531311\n"
     ]
    },
    {
     "name": "stderr",
     "output_type": "stream",
     "text": [
      "\n"
     ]
    },
    {
     "name": "stdout",
     "output_type": "stream",
     "text": [
      "metrics - mlflow\n",
      "lstm_40_for_40_32_hidden_layers_bi_False: {'Open': 1.83, 'High': 2.88, 'Low': 2.55, 'Close': 1.72} - {'Open': 46.54, 'High': 46.08, 'Low': 50.23, 'Close': 49.31}\n",
      "--------------------------------------------------------------------------------\n"
     ]
    },
    {
     "name": "stderr",
     "output_type": "stream",
     "text": [
      "100%|██████████| 25/25 [01:03<00:00,  2.53s/it]"
     ]
    },
    {
     "name": "stdout",
     "output_type": "stream",
     "text": [
      "\n",
      "MSE:  0.011504925285967497\n",
      "Training time: 63.371737003326416\n"
     ]
    },
    {
     "name": "stderr",
     "output_type": "stream",
     "text": [
      "\n"
     ]
    },
    {
     "name": "stdout",
     "output_type": "stream",
     "text": [
      "metrics - mlflow\n",
      "lstm_50_for_30_8_hidden_layers_bi_True: {'Open': 1.54, 'High': 1.46, 'Low': 1.27, 'Close': 1.5} - {'Open': 52.66, 'High': 57.49, 'Low': 50.24, 'Close': 53.62}\n",
      "--------------------------------------------------------------------------------\n"
     ]
    },
    {
     "name": "stderr",
     "output_type": "stream",
     "text": [
      "100%|██████████| 25/25 [00:33<00:00,  1.34s/it]"
     ]
    },
    {
     "name": "stdout",
     "output_type": "stream",
     "text": [
      "\n",
      "MSE:  0.022532387027660243\n",
      "Training time: 33.42994165420532\n"
     ]
    },
    {
     "name": "stderr",
     "output_type": "stream",
     "text": [
      "\n"
     ]
    },
    {
     "name": "stdout",
     "output_type": "stream",
     "text": [
      "metrics - mlflow\n",
      "lstm_50_for_30_8_hidden_layers_bi_False: {'Open': 1.46, 'High': 1.11, 'Low': 1.29, 'Close': 3.27} - {'Open': 49.76, 'High': 53.62, 'Low': 51.21, 'Close': 46.38}\n",
      "--------------------------------------------------------------------------------\n"
     ]
    },
    {
     "name": "stderr",
     "output_type": "stream",
     "text": [
      "100%|██████████| 25/25 [01:07<00:00,  2.71s/it]"
     ]
    },
    {
     "name": "stdout",
     "output_type": "stream",
     "text": [
      "\n",
      "MSE:  0.0078062469569536354\n",
      "Training time: 67.8034155368805\n"
     ]
    },
    {
     "name": "stderr",
     "output_type": "stream",
     "text": [
      "\n"
     ]
    },
    {
     "name": "stdout",
     "output_type": "stream",
     "text": [
      "metrics - mlflow\n",
      "lstm_50_for_30_16_hidden_layers_bi_True: {'Open': 1.59, 'High': 1.35, 'Low': 2.12, 'Close': 2.14} - {'Open': 57.97, 'High': 47.83, 'Low': 49.28, 'Close': 46.86}\n",
      "--------------------------------------------------------------------------------\n"
     ]
    },
    {
     "name": "stderr",
     "output_type": "stream",
     "text": [
      "100%|██████████| 25/25 [00:33<00:00,  1.32s/it]"
     ]
    },
    {
     "name": "stdout",
     "output_type": "stream",
     "text": [
      "\n",
      "MSE:  0.010006774718371721\n",
      "Training time: 33.06964087486267\n"
     ]
    },
    {
     "name": "stderr",
     "output_type": "stream",
     "text": [
      "\n"
     ]
    },
    {
     "name": "stdout",
     "output_type": "stream",
     "text": [
      "metrics - mlflow\n",
      "lstm_50_for_30_16_hidden_layers_bi_False: {'Open': 1.34, 'High': 1.67, 'Low': 1.33, 'Close': 1.23} - {'Open': 52.17, 'High': 50.72, 'Low': 48.31, 'Close': 49.28}\n",
      "--------------------------------------------------------------------------------\n"
     ]
    },
    {
     "name": "stderr",
     "output_type": "stream",
     "text": [
      "100%|██████████| 25/25 [01:15<00:00,  3.04s/it]"
     ]
    },
    {
     "name": "stdout",
     "output_type": "stream",
     "text": [
      "\n",
      "MSE:  0.00681680476722809\n",
      "Training time: 75.97983574867249\n"
     ]
    },
    {
     "name": "stderr",
     "output_type": "stream",
     "text": [
      "\n"
     ]
    },
    {
     "name": "stdout",
     "output_type": "stream",
     "text": [
      "metrics - mlflow\n",
      "lstm_50_for_30_32_hidden_layers_bi_True: {'Open': 3.89, 'High': 2.07, 'Low': 2.32, 'Close': 1.99} - {'Open': 51.69, 'High': 55.07, 'Low': 48.31, 'Close': 48.79}\n",
      "--------------------------------------------------------------------------------\n"
     ]
    },
    {
     "name": "stderr",
     "output_type": "stream",
     "text": [
      "100%|██████████| 25/25 [00:41<00:00,  1.65s/it]"
     ]
    },
    {
     "name": "stdout",
     "output_type": "stream",
     "text": [
      "\n",
      "MSE:  0.007387995290068479\n",
      "Training time: 41.205615520477295\n"
     ]
    },
    {
     "name": "stderr",
     "output_type": "stream",
     "text": [
      "\n"
     ]
    },
    {
     "name": "stdout",
     "output_type": "stream",
     "text": [
      "metrics - mlflow\n",
      "lstm_50_for_30_32_hidden_layers_bi_False: {'Open': 1.64, 'High': 3.29, 'Low': 1.91, 'Close': 2.37} - {'Open': 54.11, 'High': 52.17, 'Low': 47.34, 'Close': 47.34}\n",
      "--------------------------------------------------------------------------------\n"
     ]
    },
    {
     "name": "stderr",
     "output_type": "stream",
     "text": [
      "100%|██████████| 25/25 [01:09<00:00,  2.78s/it]"
     ]
    },
    {
     "name": "stdout",
     "output_type": "stream",
     "text": [
      "\n",
      "MSE:  0.005884134792722762\n",
      "Training time: 69.44349694252014\n"
     ]
    },
    {
     "name": "stderr",
     "output_type": "stream",
     "text": [
      "\n"
     ]
    },
    {
     "name": "stdout",
     "output_type": "stream",
     "text": [
      "metrics - mlflow\n",
      "lstm_60_for_5_8_hidden_layers_bi_True: {'Open': 5.18, 'High': 1.4, 'Low': 1.67, 'Close': 1.52} - {'Open': 52.28, 'High': 50.76, 'Low': 48.22, 'Close': 57.36}\n",
      "--------------------------------------------------------------------------------\n"
     ]
    },
    {
     "name": "stderr",
     "output_type": "stream",
     "text": [
      "100%|██████████| 25/25 [00:36<00:00,  1.47s/it]"
     ]
    },
    {
     "name": "stdout",
     "output_type": "stream",
     "text": [
      "\n",
      "MSE:  0.00971720999894807\n",
      "Training time: 36.663431882858276\n"
     ]
    },
    {
     "name": "stderr",
     "output_type": "stream",
     "text": [
      "\n"
     ]
    },
    {
     "name": "stdout",
     "output_type": "stream",
     "text": [
      "metrics - mlflow\n",
      "lstm_60_for_5_8_hidden_layers_bi_False: {'Open': 1.16, 'High': 1.33, 'Low': 1.27, 'Close': 1.48} - {'Open': 51.78, 'High': 45.69, 'Low': 50.25, 'Close': 56.85}\n",
      "--------------------------------------------------------------------------------\n"
     ]
    },
    {
     "name": "stderr",
     "output_type": "stream",
     "text": [
      "100%|██████████| 25/25 [01:13<00:00,  2.95s/it]"
     ]
    },
    {
     "name": "stdout",
     "output_type": "stream",
     "text": [
      "\n",
      "MSE:  0.002761863163099266\n",
      "Training time: 73.67101573944092\n"
     ]
    },
    {
     "name": "stderr",
     "output_type": "stream",
     "text": [
      "\n"
     ]
    },
    {
     "name": "stdout",
     "output_type": "stream",
     "text": [
      "metrics - mlflow\n",
      "lstm_60_for_5_16_hidden_layers_bi_True: {'Open': 2.91, 'High': 74.7, 'Low': 2.48, 'Close': 3.46} - {'Open': 49.24, 'High': 52.79, 'Low': 51.78, 'Close': 53.3}\n",
      "--------------------------------------------------------------------------------\n"
     ]
    },
    {
     "name": "stderr",
     "output_type": "stream",
     "text": [
      "100%|██████████| 25/25 [00:38<00:00,  1.54s/it]"
     ]
    },
    {
     "name": "stdout",
     "output_type": "stream",
     "text": [
      "\n",
      "MSE:  0.003982254326379357\n",
      "Training time: 38.55834245681763\n"
     ]
    },
    {
     "name": "stderr",
     "output_type": "stream",
     "text": [
      "\n"
     ]
    },
    {
     "name": "stdout",
     "output_type": "stream",
     "text": [
      "metrics - mlflow\n",
      "lstm_60_for_5_16_hidden_layers_bi_False: {'Open': 2.08, 'High': 4.47, 'Low': 1.3, 'Close': 1.43} - {'Open': 49.75, 'High': 49.24, 'Low': 49.24, 'Close': 48.73}\n",
      "--------------------------------------------------------------------------------\n"
     ]
    },
    {
     "name": "stderr",
     "output_type": "stream",
     "text": [
      "100%|██████████| 25/25 [01:29<00:00,  3.57s/it]"
     ]
    },
    {
     "name": "stdout",
     "output_type": "stream",
     "text": [
      "\n",
      "MSE:  0.0016445125757644956\n",
      "Training time: 89.15309047698975\n"
     ]
    },
    {
     "name": "stderr",
     "output_type": "stream",
     "text": [
      "\n"
     ]
    },
    {
     "name": "stdout",
     "output_type": "stream",
     "text": [
      "metrics - mlflow\n",
      "lstm_60_for_5_32_hidden_layers_bi_True: {'Open': 5.06, 'High': 4.72, 'Low': 3.46, 'Close': 2.78} - {'Open': 49.24, 'High': 48.73, 'Low': 53.81, 'Close': 52.28}\n",
      "--------------------------------------------------------------------------------\n"
     ]
    },
    {
     "name": "stderr",
     "output_type": "stream",
     "text": [
      "100%|██████████| 25/25 [00:47<00:00,  1.89s/it]"
     ]
    },
    {
     "name": "stdout",
     "output_type": "stream",
     "text": [
      "\n",
      "MSE:  0.0020893055032222317\n",
      "Training time: 47.28637886047363\n"
     ]
    },
    {
     "name": "stderr",
     "output_type": "stream",
     "text": [
      "\n"
     ]
    },
    {
     "name": "stdout",
     "output_type": "stream",
     "text": [
      "metrics - mlflow\n",
      "lstm_60_for_5_32_hidden_layers_bi_False: {'Open': 3.87, 'High': 4.89, 'Low': 2.04, 'Close': 5.82} - {'Open': 48.22, 'High': 50.76, 'Low': 56.35, 'Close': 59.39}\n",
      "--------------------------------------------------------------------------------\n"
     ]
    },
    {
     "name": "stderr",
     "output_type": "stream",
     "text": [
      "100%|██████████| 25/25 [01:09<00:00,  2.80s/it]"
     ]
    },
    {
     "name": "stdout",
     "output_type": "stream",
     "text": [
      "\n",
      "MSE:  0.00686229073191778\n",
      "Training time: 69.96138978004456\n"
     ]
    },
    {
     "name": "stderr",
     "output_type": "stream",
     "text": [
      "\n"
     ]
    },
    {
     "name": "stdout",
     "output_type": "stream",
     "text": [
      "metrics - mlflow\n",
      "lstm_60_for_10_8_hidden_layers_bi_True: {'Open': 2.88, 'High': 1.84, 'Low': 1.74, 'Close': 1.61} - {'Open': 51.78, 'High': 52.79, 'Low': 52.28, 'Close': 51.78}\n",
      "--------------------------------------------------------------------------------\n"
     ]
    },
    {
     "name": "stderr",
     "output_type": "stream",
     "text": [
      "100%|██████████| 25/25 [00:43<00:00,  1.75s/it]"
     ]
    },
    {
     "name": "stdout",
     "output_type": "stream",
     "text": [
      "\n",
      "MSE:  0.009085055942145677\n",
      "Training time: 43.78366756439209\n"
     ]
    },
    {
     "name": "stderr",
     "output_type": "stream",
     "text": [
      "\n"
     ]
    },
    {
     "name": "stdout",
     "output_type": "stream",
     "text": [
      "metrics - mlflow\n",
      "lstm_60_for_10_8_hidden_layers_bi_False: {'Open': 1.7, 'High': 1.4, 'Low': 4.93, 'Close': 1.55} - {'Open': 53.81, 'High': 54.82, 'Low': 51.27, 'Close': 54.31}\n",
      "--------------------------------------------------------------------------------\n"
     ]
    },
    {
     "name": "stderr",
     "output_type": "stream",
     "text": [
      "100%|██████████| 25/25 [01:18<00:00,  3.15s/it]"
     ]
    },
    {
     "name": "stdout",
     "output_type": "stream",
     "text": [
      "\n",
      "MSE:  0.00333557944619455\n",
      "Training time: 78.69969034194946\n"
     ]
    },
    {
     "name": "stderr",
     "output_type": "stream",
     "text": [
      "\n"
     ]
    },
    {
     "name": "stdout",
     "output_type": "stream",
     "text": [
      "metrics - mlflow\n",
      "lstm_60_for_10_16_hidden_layers_bi_True: {'Open': 1.54, 'High': 6.37, 'Low': 1.96, 'Close': 2.83} - {'Open': 54.31, 'High': 49.24, 'Low': 50.76, 'Close': 53.81}\n",
      "--------------------------------------------------------------------------------\n"
     ]
    },
    {
     "name": "stderr",
     "output_type": "stream",
     "text": [
      "100%|██████████| 25/25 [00:38<00:00,  1.54s/it]"
     ]
    },
    {
     "name": "stdout",
     "output_type": "stream",
     "text": [
      "\n",
      "MSE:  0.005058799601661472\n",
      "Training time: 38.47622323036194\n"
     ]
    },
    {
     "name": "stderr",
     "output_type": "stream",
     "text": [
      "\n"
     ]
    },
    {
     "name": "stdout",
     "output_type": "stream",
     "text": [
      "metrics - mlflow\n",
      "lstm_60_for_10_16_hidden_layers_bi_False: {'Open': 1.64, 'High': 2.01, 'Low': 2.17, 'Close': 1.6} - {'Open': 52.28, 'High': 53.3, 'Low': 49.75, 'Close': 49.75}\n",
      "--------------------------------------------------------------------------------\n"
     ]
    },
    {
     "name": "stderr",
     "output_type": "stream",
     "text": [
      "100%|██████████| 25/25 [01:29<00:00,  3.60s/it]"
     ]
    },
    {
     "name": "stdout",
     "output_type": "stream",
     "text": [
      "\n",
      "MSE:  0.0030224317541489233\n",
      "Training time: 89.93517231941223\n"
     ]
    },
    {
     "name": "stderr",
     "output_type": "stream",
     "text": [
      "\n"
     ]
    },
    {
     "name": "stdout",
     "output_type": "stream",
     "text": [
      "metrics - mlflow\n",
      "lstm_60_for_10_32_hidden_layers_bi_True: {'Open': 3.17, 'High': 7.52, 'Low': 3.29, 'Close': 1.87} - {'Open': 51.27, 'High': 51.78, 'Low': 52.28, 'Close': 51.78}\n",
      "--------------------------------------------------------------------------------\n"
     ]
    },
    {
     "name": "stderr",
     "output_type": "stream",
     "text": [
      "100%|██████████| 25/25 [00:47<00:00,  1.89s/it]"
     ]
    },
    {
     "name": "stdout",
     "output_type": "stream",
     "text": [
      "\n",
      "MSE:  0.0039167711197828445\n",
      "Training time: 47.226842641830444\n"
     ]
    },
    {
     "name": "stderr",
     "output_type": "stream",
     "text": [
      "\n"
     ]
    },
    {
     "name": "stdout",
     "output_type": "stream",
     "text": [
      "metrics - mlflow\n",
      "lstm_60_for_10_32_hidden_layers_bi_False: {'Open': 1.68, 'High': 2.9, 'Low': 1.94, 'Close': 5.69} - {'Open': 59.39, 'High': 52.28, 'Low': 54.82, 'Close': 52.28}\n",
      "--------------------------------------------------------------------------------\n"
     ]
    },
    {
     "name": "stderr",
     "output_type": "stream",
     "text": [
      "100%|██████████| 25/25 [01:11<00:00,  2.85s/it]"
     ]
    },
    {
     "name": "stdout",
     "output_type": "stream",
     "text": [
      "\n",
      "MSE:  0.009776126844092058\n",
      "Training time: 71.1899983882904\n"
     ]
    },
    {
     "name": "stderr",
     "output_type": "stream",
     "text": [
      "\n"
     ]
    },
    {
     "name": "stdout",
     "output_type": "stream",
     "text": [
      "metrics - mlflow\n",
      "lstm_60_for_20_8_hidden_layers_bi_True: {'Open': 1.93, 'High': 1.82, 'Low': 2.04, 'Close': 1.88} - {'Open': 52.28, 'High': 42.64, 'Low': 54.31, 'Close': 48.73}\n",
      "--------------------------------------------------------------------------------\n"
     ]
    },
    {
     "name": "stderr",
     "output_type": "stream",
     "text": [
      "100%|██████████| 25/25 [00:36<00:00,  1.47s/it]"
     ]
    },
    {
     "name": "stdout",
     "output_type": "stream",
     "text": [
      "\n",
      "MSE:  0.01638826520110552\n",
      "Training time: 36.86082363128662\n"
     ]
    },
    {
     "name": "stderr",
     "output_type": "stream",
     "text": [
      "\n"
     ]
    },
    {
     "name": "stdout",
     "output_type": "stream",
     "text": [
      "metrics - mlflow\n",
      "lstm_60_for_20_8_hidden_layers_bi_False: {'Open': 2.84, 'High': 1.65, 'Low': 3.47, 'Close': 1.81} - {'Open': 55.84, 'High': 48.73, 'Low': 55.84, 'Close': 47.21}\n",
      "--------------------------------------------------------------------------------\n"
     ]
    },
    {
     "name": "stderr",
     "output_type": "stream",
     "text": [
      "100%|██████████| 25/25 [01:13<00:00,  2.96s/it]"
     ]
    },
    {
     "name": "stdout",
     "output_type": "stream",
     "text": [
      "\n",
      "MSE:  0.006021242391747924\n",
      "Training time: 73.96920251846313\n"
     ]
    },
    {
     "name": "stderr",
     "output_type": "stream",
     "text": [
      "\n"
     ]
    },
    {
     "name": "stdout",
     "output_type": "stream",
     "text": [
      "metrics - mlflow\n",
      "lstm_60_for_20_16_hidden_layers_bi_True: {'Open': 2.1, 'High': 2.26, 'Low': 2.07, 'Close': 1.88} - {'Open': 53.3, 'High': 44.16, 'Low': 48.73, 'Close': 50.76}\n",
      "--------------------------------------------------------------------------------\n"
     ]
    },
    {
     "name": "stderr",
     "output_type": "stream",
     "text": [
      "100%|██████████| 25/25 [00:39<00:00,  1.56s/it]"
     ]
    },
    {
     "name": "stdout",
     "output_type": "stream",
     "text": [
      "\n",
      "MSE:  0.008858479640016763\n",
      "Training time: 39.10017728805542\n"
     ]
    },
    {
     "name": "stderr",
     "output_type": "stream",
     "text": [
      "\n"
     ]
    },
    {
     "name": "stdout",
     "output_type": "stream",
     "text": [
      "metrics - mlflow\n",
      "lstm_60_for_20_16_hidden_layers_bi_False: {'Open': 3.8, 'High': 2.29, 'Low': 16.3, 'Close': 6.04} - {'Open': 50.25, 'High': 48.73, 'Low': 49.24, 'Close': 50.76}\n",
      "--------------------------------------------------------------------------------\n"
     ]
    },
    {
     "name": "stderr",
     "output_type": "stream",
     "text": [
      "100%|██████████| 25/25 [01:28<00:00,  3.55s/it]"
     ]
    },
    {
     "name": "stdout",
     "output_type": "stream",
     "text": [
      "\n",
      "MSE:  0.0050709259499294255\n",
      "Training time: 88.85107707977295\n"
     ]
    },
    {
     "name": "stderr",
     "output_type": "stream",
     "text": [
      "\n"
     ]
    },
    {
     "name": "stdout",
     "output_type": "stream",
     "text": [
      "metrics - mlflow\n",
      "lstm_60_for_20_32_hidden_layers_bi_True: {'Open': 4.34, 'High': 2.91, 'Low': 23.76, 'Close': 3.39} - {'Open': 54.31, 'High': 47.72, 'Low': 52.28, 'Close': 47.21}\n",
      "--------------------------------------------------------------------------------\n"
     ]
    },
    {
     "name": "stderr",
     "output_type": "stream",
     "text": [
      "100%|██████████| 25/25 [00:47<00:00,  1.88s/it]"
     ]
    },
    {
     "name": "stdout",
     "output_type": "stream",
     "text": [
      "\n",
      "MSE:  0.005455533947007587\n",
      "Training time: 47.09979820251465\n"
     ]
    },
    {
     "name": "stderr",
     "output_type": "stream",
     "text": [
      "\n"
     ]
    },
    {
     "name": "stdout",
     "output_type": "stream",
     "text": [
      "metrics - mlflow\n",
      "lstm_60_for_20_32_hidden_layers_bi_False: {'Open': 2.08, 'High': 2.01, 'Low': 4.65, 'Close': 1.98} - {'Open': 53.81, 'High': 51.27, 'Low': 54.82, 'Close': 45.69}\n",
      "--------------------------------------------------------------------------------\n"
     ]
    },
    {
     "name": "stderr",
     "output_type": "stream",
     "text": [
      "100%|██████████| 25/25 [00:59<00:00,  2.39s/it]"
     ]
    },
    {
     "name": "stdout",
     "output_type": "stream",
     "text": [
      "\n",
      "MSE:  0.01351171638816595\n",
      "Training time: 59.63496994972229\n"
     ]
    },
    {
     "name": "stderr",
     "output_type": "stream",
     "text": [
      "\n"
     ]
    },
    {
     "name": "stdout",
     "output_type": "stream",
     "text": [
      "metrics - mlflow\n",
      "lstm_50_for_40_8_hidden_layers_bi_True: {'Open': 1.83, 'High': 2.47, 'Low': 1.72, 'Close': 1.4} - {'Open': 45.89, 'High': 50.24, 'Low': 53.14, 'Close': 54.11}\n",
      "--------------------------------------------------------------------------------\n"
     ]
    },
    {
     "name": "stderr",
     "output_type": "stream",
     "text": [
      "100%|██████████| 25/25 [00:31<00:00,  1.28s/it]"
     ]
    },
    {
     "name": "stdout",
     "output_type": "stream",
     "text": [
      "\n",
      "MSE:  0.02326059040541832\n",
      "Training time: 31.914650440216064\n"
     ]
    },
    {
     "name": "stderr",
     "output_type": "stream",
     "text": [
      "\n"
     ]
    },
    {
     "name": "stdout",
     "output_type": "stream",
     "text": [
      "metrics - mlflow\n",
      "lstm_50_for_40_8_hidden_layers_bi_False: {'Open': 6.26, 'High': 1.63, 'Low': 1.33, 'Close': 4.49} - {'Open': 52.17, 'High': 45.41, 'Low': 50.24, 'Close': 47.83}\n",
      "--------------------------------------------------------------------------------\n"
     ]
    },
    {
     "name": "stderr",
     "output_type": "stream",
     "text": [
      "100%|██████████| 25/25 [01:02<00:00,  2.50s/it]"
     ]
    },
    {
     "name": "stdout",
     "output_type": "stream",
     "text": [
      "\n",
      "MSE:  0.009412215897240318\n",
      "Training time: 62.57587480545044\n"
     ]
    },
    {
     "name": "stderr",
     "output_type": "stream",
     "text": [
      "\n"
     ]
    },
    {
     "name": "stdout",
     "output_type": "stream",
     "text": [
      "metrics - mlflow\n",
      "lstm_50_for_40_16_hidden_layers_bi_True: {'Open': 2.86, 'High': 1.6, 'Low': 2.06, 'Close': 1.52} - {'Open': 50.24, 'High': 49.28, 'Low': 51.21, 'Close': 45.89}\n",
      "--------------------------------------------------------------------------------\n"
     ]
    },
    {
     "name": "stderr",
     "output_type": "stream",
     "text": [
      "100%|██████████| 25/25 [00:34<00:00,  1.40s/it]"
     ]
    },
    {
     "name": "stdout",
     "output_type": "stream",
     "text": [
      "\n",
      "MSE:  0.010463576638497986\n",
      "Training time: 34.94870162010193\n"
     ]
    },
    {
     "name": "stderr",
     "output_type": "stream",
     "text": [
      "\n"
     ]
    },
    {
     "name": "stdout",
     "output_type": "stream",
     "text": [
      "metrics - mlflow\n",
      "lstm_50_for_40_16_hidden_layers_bi_False: {'Open': 9.11, 'High': 1.29, 'Low': 1.71, 'Close': 1.63} - {'Open': 54.59, 'High': 54.59, 'Low': 50.72, 'Close': 43.48}\n",
      "--------------------------------------------------------------------------------\n"
     ]
    },
    {
     "name": "stderr",
     "output_type": "stream",
     "text": [
      "100%|██████████| 25/25 [01:16<00:00,  3.07s/it]"
     ]
    },
    {
     "name": "stdout",
     "output_type": "stream",
     "text": [
      "\n",
      "MSE:  0.007843937769603845\n",
      "Training time: 76.66657328605652\n"
     ]
    },
    {
     "name": "stderr",
     "output_type": "stream",
     "text": [
      "\n"
     ]
    },
    {
     "name": "stdout",
     "output_type": "stream",
     "text": [
      "metrics - mlflow\n",
      "lstm_50_for_40_32_hidden_layers_bi_True: {'Open': 2.93, 'High': 1.8, 'Low': 2.69, 'Close': 6.86} - {'Open': 55.07, 'High': 46.38, 'Low': 53.14, 'Close': 47.83}\n",
      "--------------------------------------------------------------------------------\n"
     ]
    },
    {
     "name": "stderr",
     "output_type": "stream",
     "text": [
      "100%|██████████| 25/25 [00:40<00:00,  1.63s/it]"
     ]
    },
    {
     "name": "stdout",
     "output_type": "stream",
     "text": [
      "\n",
      "MSE:  0.009794892152198233\n",
      "Training time: 40.726982831954956\n"
     ]
    },
    {
     "name": "stderr",
     "output_type": "stream",
     "text": [
      "\n"
     ]
    },
    {
     "name": "stdout",
     "output_type": "stream",
     "text": [
      "metrics - mlflow\n",
      "lstm_50_for_40_32_hidden_layers_bi_False: {'Open': 4.2, 'High': 2.32, 'Low': 2.0, 'Close': 2.95} - {'Open': 50.72, 'High': 51.69, 'Low': 47.34, 'Close': 50.72}\n",
      "--------------------------------------------------------------------------------\n"
     ]
    },
    {
     "name": "stderr",
     "output_type": "stream",
     "text": [
      "100%|██████████| 25/25 [01:10<00:00,  2.81s/it]"
     ]
    },
    {
     "name": "stdout",
     "output_type": "stream",
     "text": [
      "\n",
      "MSE:  0.011694991262629628\n",
      "Training time: 70.13338899612427\n"
     ]
    },
    {
     "name": "stderr",
     "output_type": "stream",
     "text": [
      "\n"
     ]
    },
    {
     "name": "stdout",
     "output_type": "stream",
     "text": [
      "metrics - mlflow\n",
      "lstm_60_for_30_8_hidden_layers_bi_True: {'Open': 1.83, 'High': 1.87, 'Low': 3.47, 'Close': 3.88} - {'Open': 49.24, 'High': 56.35, 'Low': 48.73, 'Close': 47.21}\n",
      "--------------------------------------------------------------------------------\n"
     ]
    },
    {
     "name": "stderr",
     "output_type": "stream",
     "text": [
      "100%|██████████| 25/25 [00:37<00:00,  1.49s/it]"
     ]
    },
    {
     "name": "stdout",
     "output_type": "stream",
     "text": [
      "\n",
      "MSE:  0.027023900730105545\n",
      "Training time: 37.368255853652954\n"
     ]
    },
    {
     "name": "stderr",
     "output_type": "stream",
     "text": [
      "\n"
     ]
    },
    {
     "name": "stdout",
     "output_type": "stream",
     "text": [
      "metrics - mlflow\n",
      "lstm_60_for_30_8_hidden_layers_bi_False: {'Open': 1.28, 'High': 1.53, 'Low': 1.33, 'Close': 1.24} - {'Open': 48.22, 'High': 58.38, 'Low': 48.22, 'Close': 48.22}\n",
      "--------------------------------------------------------------------------------\n"
     ]
    },
    {
     "name": "stderr",
     "output_type": "stream",
     "text": [
      "100%|██████████| 25/25 [01:13<00:00,  2.95s/it]"
     ]
    },
    {
     "name": "stdout",
     "output_type": "stream",
     "text": [
      "\n",
      "MSE:  0.007676379737229302\n",
      "Training time: 73.86117196083069\n"
     ]
    },
    {
     "name": "stderr",
     "output_type": "stream",
     "text": [
      "\n"
     ]
    },
    {
     "name": "stdout",
     "output_type": "stream",
     "text": [
      "metrics - mlflow\n",
      "lstm_60_for_30_16_hidden_layers_bi_True: {'Open': 1.98, 'High': 9.42, 'Low': 1.57, 'Close': 1.51} - {'Open': 51.27, 'High': 50.25, 'Low': 47.72, 'Close': 53.81}\n",
      "--------------------------------------------------------------------------------\n"
     ]
    },
    {
     "name": "stderr",
     "output_type": "stream",
     "text": [
      "100%|██████████| 25/25 [00:38<00:00,  1.55s/it]"
     ]
    },
    {
     "name": "stdout",
     "output_type": "stream",
     "text": [
      "\n",
      "MSE:  0.008671750439904057\n",
      "Training time: 38.8083815574646\n"
     ]
    },
    {
     "name": "stderr",
     "output_type": "stream",
     "text": [
      "\n"
     ]
    },
    {
     "name": "stdout",
     "output_type": "stream",
     "text": [
      "metrics - mlflow\n",
      "lstm_60_for_30_16_hidden_layers_bi_False: {'Open': 4.84, 'High': 1.91, 'Low': 2.33, 'Close': 7.73} - {'Open': 45.69, 'High': 50.25, 'Low': 55.33, 'Close': 56.85}\n",
      "--------------------------------------------------------------------------------\n"
     ]
    },
    {
     "name": "stderr",
     "output_type": "stream",
     "text": [
      "100%|██████████| 25/25 [01:29<00:00,  3.57s/it]"
     ]
    },
    {
     "name": "stdout",
     "output_type": "stream",
     "text": [
      "\n",
      "MSE:  0.007217538471405323\n",
      "Training time: 89.20861530303955\n"
     ]
    },
    {
     "name": "stderr",
     "output_type": "stream",
     "text": [
      "\n"
     ]
    },
    {
     "name": "stdout",
     "output_type": "stream",
     "text": [
      "metrics - mlflow\n",
      "lstm_60_for_30_32_hidden_layers_bi_True: {'Open': 3.4, 'High': 9.26, 'Low': 11.48, 'Close': 2.1} - {'Open': 45.69, 'High': 51.27, 'Low': 46.19, 'Close': 54.82}\n",
      "--------------------------------------------------------------------------------\n"
     ]
    },
    {
     "name": "stderr",
     "output_type": "stream",
     "text": [
      "100%|██████████| 25/25 [00:47<00:00,  1.89s/it]"
     ]
    },
    {
     "name": "stdout",
     "output_type": "stream",
     "text": [
      "\n",
      "MSE:  0.007643770139950972\n",
      "Training time: 47.16744780540466\n"
     ]
    },
    {
     "name": "stderr",
     "output_type": "stream",
     "text": [
      "\n"
     ]
    },
    {
     "name": "stdout",
     "output_type": "stream",
     "text": [
      "metrics - mlflow\n",
      "lstm_60_for_30_32_hidden_layers_bi_False: {'Open': 2.02, 'High': 2.68, 'Low': 2.26, 'Close': 2.58} - {'Open': 49.75, 'High': 52.79, 'Low': 50.25, 'Close': 52.28}\n",
      "--------------------------------------------------------------------------------\n"
     ]
    },
    {
     "name": "stderr",
     "output_type": "stream",
     "text": [
      "100%|██████████| 25/25 [00:59<00:00,  2.38s/it]"
     ]
    },
    {
     "name": "stdout",
     "output_type": "stream",
     "text": [
      "\n",
      "MSE:  0.014291533698829321\n",
      "Training time: 59.54711294174194\n"
     ]
    },
    {
     "name": "stderr",
     "output_type": "stream",
     "text": [
      "\n"
     ]
    },
    {
     "name": "stdout",
     "output_type": "stream",
     "text": [
      "metrics - mlflow\n",
      "lstm_50_for_50_8_hidden_layers_bi_True: {'Open': 1.87, 'High': 1.54, 'Low': 1.29, 'Close': 1.52} - {'Open': 54.11, 'High': 51.21, 'Low': 47.83, 'Close': 45.41}\n",
      "--------------------------------------------------------------------------------\n"
     ]
    },
    {
     "name": "stderr",
     "output_type": "stream",
     "text": [
      "100%|██████████| 25/25 [00:31<00:00,  1.27s/it]"
     ]
    },
    {
     "name": "stdout",
     "output_type": "stream",
     "text": [
      "\n",
      "MSE:  0.022474109589193877\n",
      "Training time: 31.824352979660034\n"
     ]
    },
    {
     "name": "stderr",
     "output_type": "stream",
     "text": [
      "\n"
     ]
    },
    {
     "name": "stdout",
     "output_type": "stream",
     "text": [
      "metrics - mlflow\n",
      "lstm_50_for_50_8_hidden_layers_bi_False: {'Open': 2.42, 'High': 1.25, 'Low': 2.14, 'Close': 1.29} - {'Open': 55.07, 'High': 48.31, 'Low': 54.11, 'Close': 48.31}\n",
      "--------------------------------------------------------------------------------\n"
     ]
    },
    {
     "name": "stderr",
     "output_type": "stream",
     "text": [
      "100%|██████████| 25/25 [01:02<00:00,  2.50s/it]"
     ]
    },
    {
     "name": "stdout",
     "output_type": "stream",
     "text": [
      "\n",
      "MSE:  0.011198382484368406\n",
      "Training time: 62.58090782165527\n"
     ]
    },
    {
     "name": "stderr",
     "output_type": "stream",
     "text": [
      "\n"
     ]
    },
    {
     "name": "stdout",
     "output_type": "stream",
     "text": [
      "metrics - mlflow\n",
      "lstm_50_for_50_16_hidden_layers_bi_True: {'Open': 1.56, 'High': 1.36, 'Low': 1.68, 'Close': 2.22} - {'Open': 53.62, 'High': 45.41, 'Low': 46.38, 'Close': 50.24}\n",
      "--------------------------------------------------------------------------------\n"
     ]
    },
    {
     "name": "stderr",
     "output_type": "stream",
     "text": [
      "100%|██████████| 25/25 [00:33<00:00,  1.32s/it]"
     ]
    },
    {
     "name": "stdout",
     "output_type": "stream",
     "text": [
      "\n",
      "MSE:  0.013756535123460568\n",
      "Training time: 33.076598167419434\n"
     ]
    },
    {
     "name": "stderr",
     "output_type": "stream",
     "text": [
      "\n"
     ]
    },
    {
     "name": "stdout",
     "output_type": "stream",
     "text": [
      "metrics - mlflow\n",
      "lstm_50_for_50_16_hidden_layers_bi_False: {'Open': 1.33, 'High': 1.16, 'Low': 1.44, 'Close': 1.17} - {'Open': 49.28, 'High': 48.31, 'Low': 52.17, 'Close': 46.38}\n",
      "--------------------------------------------------------------------------------\n"
     ]
    },
    {
     "name": "stderr",
     "output_type": "stream",
     "text": [
      "100%|██████████| 25/25 [01:16<00:00,  3.06s/it]"
     ]
    },
    {
     "name": "stdout",
     "output_type": "stream",
     "text": [
      "\n",
      "MSE:  0.010495770633077392\n",
      "Training time: 76.53939938545227\n"
     ]
    },
    {
     "name": "stderr",
     "output_type": "stream",
     "text": [
      "\n"
     ]
    },
    {
     "name": "stdout",
     "output_type": "stream",
     "text": [
      "metrics - mlflow\n",
      "lstm_50_for_50_32_hidden_layers_bi_True: {'Open': 2.3, 'High': 1.4, 'Low': 1.6, 'Close': 3.18} - {'Open': 48.31, 'High': 57.0, 'Low': 52.66, 'Close': 57.0}\n",
      "--------------------------------------------------------------------------------\n"
     ]
    },
    {
     "name": "stderr",
     "output_type": "stream",
     "text": [
      "100%|██████████| 25/25 [00:40<00:00,  1.61s/it]"
     ]
    },
    {
     "name": "stdout",
     "output_type": "stream",
     "text": [
      "\n",
      "MSE:  0.011845242841025958\n",
      "Training time: 40.235480546951294\n"
     ]
    },
    {
     "name": "stderr",
     "output_type": "stream",
     "text": [
      "\n"
     ]
    },
    {
     "name": "stdout",
     "output_type": "stream",
     "text": [
      "metrics - mlflow\n",
      "lstm_50_for_50_32_hidden_layers_bi_False: {'Open': 4.2, 'High': 2.82, 'Low': 2.61, 'Close': 1.58} - {'Open': 48.79, 'High': 51.69, 'Low': 50.24, 'Close': 52.66}\n",
      "--------------------------------------------------------------------------------\n"
     ]
    },
    {
     "name": "stderr",
     "output_type": "stream",
     "text": [
      "100%|██████████| 25/25 [01:10<00:00,  2.81s/it]"
     ]
    },
    {
     "name": "stdout",
     "output_type": "stream",
     "text": [
      "\n",
      "MSE:  0.015005470504267858\n",
      "Training time: 70.30992865562439\n"
     ]
    },
    {
     "name": "stderr",
     "output_type": "stream",
     "text": [
      "\n"
     ]
    },
    {
     "name": "stdout",
     "output_type": "stream",
     "text": [
      "metrics - mlflow\n",
      "lstm_60_for_40_8_hidden_layers_bi_True: {'Open': 1.6, 'High': 1.46, 'Low': 13.45, 'Close': 1.68} - {'Open': 53.3, 'High': 49.75, 'Low': 44.16, 'Close': 48.73}\n",
      "--------------------------------------------------------------------------------\n"
     ]
    },
    {
     "name": "stderr",
     "output_type": "stream",
     "text": [
      "100%|██████████| 25/25 [00:36<00:00,  1.48s/it]"
     ]
    },
    {
     "name": "stdout",
     "output_type": "stream",
     "text": [
      "\n",
      "MSE:  0.018701672840576906\n",
      "Training time: 36.99985480308533\n"
     ]
    },
    {
     "name": "stderr",
     "output_type": "stream",
     "text": [
      "\n"
     ]
    },
    {
     "name": "stdout",
     "output_type": "stream",
     "text": [
      "metrics - mlflow\n",
      "lstm_60_for_40_8_hidden_layers_bi_False: {'Open': 5.64, 'High': 1.23, 'Low': 1.23, 'Close': 1.97} - {'Open': 51.27, 'High': 49.75, 'Low': 52.79, 'Close': 51.27}\n",
      "--------------------------------------------------------------------------------\n"
     ]
    },
    {
     "name": "stderr",
     "output_type": "stream",
     "text": [
      "100%|██████████| 25/25 [01:14<00:00,  2.98s/it]"
     ]
    },
    {
     "name": "stdout",
     "output_type": "stream",
     "text": [
      "\n",
      "MSE:  0.008691574500587124\n",
      "Training time: 74.47995257377625\n"
     ]
    },
    {
     "name": "stderr",
     "output_type": "stream",
     "text": [
      "\n"
     ]
    },
    {
     "name": "stdout",
     "output_type": "stream",
     "text": [
      "metrics - mlflow\n",
      "lstm_60_for_40_16_hidden_layers_bi_True: {'Open': 1.57, 'High': 1.43, 'Low': 2.29, 'Close': 2.06} - {'Open': 49.75, 'High': 50.25, 'Low': 47.21, 'Close': 45.69}\n",
      "--------------------------------------------------------------------------------\n"
     ]
    },
    {
     "name": "stderr",
     "output_type": "stream",
     "text": [
      "100%|██████████| 25/25 [00:38<00:00,  1.56s/it]"
     ]
    },
    {
     "name": "stdout",
     "output_type": "stream",
     "text": [
      "\n",
      "MSE:  0.012129061085243639\n",
      "Training time: 38.96127104759216\n"
     ]
    },
    {
     "name": "stderr",
     "output_type": "stream",
     "text": [
      "\n"
     ]
    },
    {
     "name": "stdout",
     "output_type": "stream",
     "text": [
      "metrics - mlflow\n",
      "lstm_60_for_40_16_hidden_layers_bi_False: {'Open': 1.23, 'High': 36.27, 'Low': 1.32, 'Close': 1.52} - {'Open': 50.25, 'High': 51.27, 'Low': 47.21, 'Close': 51.78}\n",
      "--------------------------------------------------------------------------------\n"
     ]
    },
    {
     "name": "stderr",
     "output_type": "stream",
     "text": [
      "100%|██████████| 25/25 [01:29<00:00,  3.58s/it]"
     ]
    },
    {
     "name": "stdout",
     "output_type": "stream",
     "text": [
      "\n",
      "MSE:  0.009496964711266069\n",
      "Training time: 89.50109887123108\n"
     ]
    },
    {
     "name": "stderr",
     "output_type": "stream",
     "text": [
      "\n"
     ]
    },
    {
     "name": "stdout",
     "output_type": "stream",
     "text": [
      "metrics - mlflow\n",
      "lstm_60_for_40_32_hidden_layers_bi_True: {'Open': 1.86, 'High': 2.24, 'Low': 2.85, 'Close': 7.58} - {'Open': 54.31, 'High': 55.84, 'Low': 45.18, 'Close': 53.81}\n",
      "--------------------------------------------------------------------------------\n"
     ]
    },
    {
     "name": "stderr",
     "output_type": "stream",
     "text": [
      "100%|██████████| 25/25 [00:47<00:00,  1.91s/it]"
     ]
    },
    {
     "name": "stdout",
     "output_type": "stream",
     "text": [
      "\n",
      "MSE:  0.010078401949543219\n",
      "Training time: 47.76565217971802\n"
     ]
    },
    {
     "name": "stderr",
     "output_type": "stream",
     "text": [
      "\n"
     ]
    },
    {
     "name": "stdout",
     "output_type": "stream",
     "text": [
      "metrics - mlflow\n",
      "lstm_60_for_40_32_hidden_layers_bi_False: {'Open': 1.37, 'High': 5.36, 'Low': 1.94, 'Close': 1.75} - {'Open': 53.3, 'High': 48.22, 'Low': 49.75, 'Close': 47.72}\n",
      "--------------------------------------------------------------------------------\n"
     ]
    },
    {
     "name": "stderr",
     "output_type": "stream",
     "text": [
      "100%|██████████| 25/25 [01:10<00:00,  2.81s/it]"
     ]
    },
    {
     "name": "stdout",
     "output_type": "stream",
     "text": [
      "\n",
      "MSE:  0.01527026818635372\n",
      "Training time: 70.34703278541565\n"
     ]
    },
    {
     "name": "stderr",
     "output_type": "stream",
     "text": [
      "\n"
     ]
    },
    {
     "name": "stdout",
     "output_type": "stream",
     "text": [
      "metrics - mlflow\n",
      "lstm_60_for_50_8_hidden_layers_bi_True: {'Open': 1.33, 'High': 1.55, 'Low': 1.68, 'Close': 2.47} - {'Open': 52.79, 'High': 49.75, 'Low': 48.73, 'Close': 53.3}\n",
      "--------------------------------------------------------------------------------\n"
     ]
    },
    {
     "name": "stderr",
     "output_type": "stream",
     "text": [
      "100%|██████████| 25/25 [00:37<00:00,  1.49s/it]"
     ]
    },
    {
     "name": "stdout",
     "output_type": "stream",
     "text": [
      "\n",
      "MSE:  0.026303899832642995\n",
      "Training time: 37.28756332397461\n"
     ]
    },
    {
     "name": "stderr",
     "output_type": "stream",
     "text": [
      "\n"
     ]
    },
    {
     "name": "stdout",
     "output_type": "stream",
     "text": [
      "metrics - mlflow\n",
      "lstm_60_for_50_8_hidden_layers_bi_False: {'Open': 1.37, 'High': 10.04, 'Low': 1.42, 'Close': 1.14} - {'Open': 49.75, 'High': 51.78, 'Low': 50.25, 'Close': 49.24}\n",
      "--------------------------------------------------------------------------------\n"
     ]
    },
    {
     "name": "stderr",
     "output_type": "stream",
     "text": [
      "100%|██████████| 25/25 [01:14<00:00,  2.96s/it]"
     ]
    },
    {
     "name": "stdout",
     "output_type": "stream",
     "text": [
      "\n",
      "MSE:  0.010184229656050984\n",
      "Training time: 74.06372833251953\n"
     ]
    },
    {
     "name": "stderr",
     "output_type": "stream",
     "text": [
      "\n"
     ]
    },
    {
     "name": "stdout",
     "output_type": "stream",
     "text": [
      "metrics - mlflow\n",
      "lstm_60_for_50_16_hidden_layers_bi_True: {'Open': 1.43, 'High': 2.84, 'Low': 2.91, 'Close': 1.55} - {'Open': 49.24, 'High': 51.78, 'Low': 48.73, 'Close': 48.73}\n",
      "--------------------------------------------------------------------------------\n"
     ]
    },
    {
     "name": "stderr",
     "output_type": "stream",
     "text": [
      "100%|██████████| 25/25 [00:38<00:00,  1.56s/it]"
     ]
    },
    {
     "name": "stdout",
     "output_type": "stream",
     "text": [
      "\n",
      "MSE:  0.013413920246351223\n",
      "Training time: 38.92455697059631\n"
     ]
    },
    {
     "name": "stderr",
     "output_type": "stream",
     "text": [
      "\n"
     ]
    },
    {
     "name": "stdout",
     "output_type": "stream",
     "text": [
      "metrics - mlflow\n",
      "lstm_60_for_50_16_hidden_layers_bi_False: {'Open': 4.31, 'High': 1.93, 'Low': 1.96, 'Close': 2.93} - {'Open': 47.21, 'High': 55.33, 'Low': 50.25, 'Close': 49.75}\n",
      "--------------------------------------------------------------------------------\n"
     ]
    },
    {
     "name": "stderr",
     "output_type": "stream",
     "text": [
      "100%|██████████| 25/25 [01:29<00:00,  3.58s/it]"
     ]
    },
    {
     "name": "stdout",
     "output_type": "stream",
     "text": [
      "\n",
      "MSE:  0.011309415961687382\n",
      "Training time: 89.43575525283813\n"
     ]
    },
    {
     "name": "stderr",
     "output_type": "stream",
     "text": [
      "\n"
     ]
    },
    {
     "name": "stdout",
     "output_type": "stream",
     "text": [
      "metrics - mlflow\n",
      "lstm_60_for_50_32_hidden_layers_bi_True: {'Open': 1.84, 'High': 23.91, 'Low': 3.82, 'Close': 1.64} - {'Open': 48.22, 'High': 53.3, 'Low': 53.81, 'Close': 46.7}\n",
      "--------------------------------------------------------------------------------\n"
     ]
    },
    {
     "name": "stderr",
     "output_type": "stream",
     "text": [
      "100%|██████████| 25/25 [00:48<00:00,  1.93s/it]"
     ]
    },
    {
     "name": "stdout",
     "output_type": "stream",
     "text": [
      "\n",
      "MSE:  0.012068614954701982\n",
      "Training time: 48.1451210975647\n"
     ]
    },
    {
     "name": "stderr",
     "output_type": "stream",
     "text": [
      "\n"
     ]
    },
    {
     "name": "stdout",
     "output_type": "stream",
     "text": [
      "metrics - mlflow\n",
      "lstm_60_for_50_32_hidden_layers_bi_False: {'Open': 1.89, 'High': 1.63, 'Low': 2.27, 'Close': 1.61} - {'Open': 46.19, 'High': 52.79, 'Low': 55.33, 'Close': 49.75}\n",
      "--------------------------------------------------------------------------------\n"
     ]
    },
    {
     "name": "stderr",
     "output_type": "stream",
     "text": [
      "100%|██████████| 25/25 [01:10<00:00,  2.82s/it]"
     ]
    },
    {
     "name": "stdout",
     "output_type": "stream",
     "text": [
      "\n",
      "MSE:  0.016161169212024946\n",
      "Training time: 70.45032382011414\n"
     ]
    },
    {
     "name": "stderr",
     "output_type": "stream",
     "text": [
      "\n"
     ]
    },
    {
     "name": "stdout",
     "output_type": "stream",
     "text": [
      "metrics - mlflow\n",
      "lstm_60_for_60_8_hidden_layers_bi_True: {'Open': 1.72, 'High': 1.41, 'Low': 2.15, 'Close': 1.37} - {'Open': 44.67, 'High': 52.79, 'Low': 50.25, 'Close': 56.85}\n",
      "--------------------------------------------------------------------------------\n"
     ]
    },
    {
     "name": "stderr",
     "output_type": "stream",
     "text": [
      "100%|██████████| 25/25 [00:37<00:00,  1.51s/it]"
     ]
    },
    {
     "name": "stdout",
     "output_type": "stream",
     "text": [
      "\n",
      "MSE:  0.02881859837529751\n",
      "Training time: 37.857585430145264\n"
     ]
    },
    {
     "name": "stderr",
     "output_type": "stream",
     "text": [
      "\n"
     ]
    },
    {
     "name": "stdout",
     "output_type": "stream",
     "text": [
      "metrics - mlflow\n",
      "lstm_60_for_60_8_hidden_layers_bi_False: {'Open': 1.2, 'High': 1.14, 'Low': 1.43, 'Close': 4.33} - {'Open': 49.24, 'High': 49.75, 'Low': 52.79, 'Close': 52.28}\n",
      "--------------------------------------------------------------------------------\n"
     ]
    },
    {
     "name": "stderr",
     "output_type": "stream",
     "text": [
      "100%|██████████| 25/25 [01:14<00:00,  2.98s/it]"
     ]
    },
    {
     "name": "stdout",
     "output_type": "stream",
     "text": [
      "\n",
      "MSE:  0.014055265919663586\n",
      "Training time: 74.4861912727356\n"
     ]
    },
    {
     "name": "stderr",
     "output_type": "stream",
     "text": [
      "\n"
     ]
    },
    {
     "name": "stdout",
     "output_type": "stream",
     "text": [
      "metrics - mlflow\n",
      "lstm_60_for_60_16_hidden_layers_bi_True: {'Open': 2.74, 'High': 1.51, 'Low': 1.73, 'Close': 1.58} - {'Open': 49.24, 'High': 52.79, 'Low': 52.79, 'Close': 58.88}\n",
      "--------------------------------------------------------------------------------\n"
     ]
    },
    {
     "name": "stderr",
     "output_type": "stream",
     "text": [
      "100%|██████████| 25/25 [00:39<00:00,  1.57s/it]"
     ]
    },
    {
     "name": "stdout",
     "output_type": "stream",
     "text": [
      "\n",
      "MSE:  0.016744300472335175\n",
      "Training time: 39.24648833274841\n"
     ]
    },
    {
     "name": "stderr",
     "output_type": "stream",
     "text": [
      "\n"
     ]
    },
    {
     "name": "stdout",
     "output_type": "stream",
     "text": [
      "metrics - mlflow\n",
      "lstm_60_for_60_16_hidden_layers_bi_False: {'Open': 2.76, 'High': 1.22, 'Low': 1.43, 'Close': 1.34} - {'Open': 47.21, 'High': 55.33, 'Low': 50.25, 'Close': 55.84}\n",
      "--------------------------------------------------------------------------------\n"
     ]
    },
    {
     "name": "stderr",
     "output_type": "stream",
     "text": [
      "100%|██████████| 25/25 [01:29<00:00,  3.57s/it]"
     ]
    },
    {
     "name": "stdout",
     "output_type": "stream",
     "text": [
      "\n",
      "MSE:  0.013479024225559372\n",
      "Training time: 89.36898350715637\n"
     ]
    },
    {
     "name": "stderr",
     "output_type": "stream",
     "text": [
      "\n"
     ]
    },
    {
     "name": "stdout",
     "output_type": "stream",
     "text": [
      "metrics - mlflow\n",
      "lstm_60_for_60_32_hidden_layers_bi_True: {'Open': 2.38, 'High': 1.71, 'Low': 1.69, 'Close': 9.91} - {'Open': 50.25, 'High': 48.73, 'Low': 56.35, 'Close': 56.35}\n",
      "--------------------------------------------------------------------------------\n"
     ]
    },
    {
     "name": "stderr",
     "output_type": "stream",
     "text": [
      "100%|██████████| 25/25 [00:47<00:00,  1.92s/it]"
     ]
    },
    {
     "name": "stdout",
     "output_type": "stream",
     "text": [
      "\n",
      "MSE:  0.013559250841633631\n",
      "Training time: 47.91288685798645\n"
     ]
    },
    {
     "name": "stderr",
     "output_type": "stream",
     "text": [
      "\n"
     ]
    },
    {
     "name": "stdout",
     "output_type": "stream",
     "text": [
      "metrics - mlflow\n",
      "lstm_60_for_60_32_hidden_layers_bi_False: {'Open': 1.62, 'High': 1.48, 'Low': 1.98, 'Close': 1.46} - {'Open': 46.19, 'High': 55.33, 'Low': 51.78, 'Close': 52.28}\n",
      "--------------------------------------------------------------------------------\n"
     ]
    }
   ],
   "source": [
    "for hypeparam in hyper_param:\n",
    "    for hidden in hidden_layers:\n",
    "        for bi in bidirectional:\n",
    "            config['lookback'] = hypeparam[0]\n",
    "            config['lookforward'] = hypeparam[1]\n",
    "            config['hidden_dim'] = hidden\n",
    "            config['bidirectional'] = bi\n",
    "            if config['bidirectional']:\n",
    "                config['num_layers'] = 1\n",
    "            base_name = \"lstm_{}_for_{}_{}_hidden_layers_bi_{}\".format(hypeparam[0], hypeparam[1], hidden, bi)\n",
    "            config['name'] = base_name\n",
    "            # Train model\n",
    "            model, scaler, hist_train, hist_val, training_time = train(df_prices, config, prop = 0.2)\n",
    "            \n",
    "            # Error in TEST DATASET\n",
    "            df_test_scaler = pd.DataFrame(scaler.transform(df_prices_test[['Open', 'Close', 'High', 'Low']].values), columns = ['Open', 'Close', 'High', 'Low'])\n",
    "            df_test_scaler['Date'] = df_prices_test['Date']\n",
    "            dataset = PriceDataset(df_test_scaler,  lookback = config['lookback'], lookforward = config['lookforward'], input_dim = config['input_dim'])\n",
    "            test_data = DataLoader(dataset, batch_size = config['batch_size'], shuffle=False,  num_workers = 1)\n",
    "            res = preprare_val_data(model, scaler, test_data, allowed_dates, config, weekends_dates)\n",
    "            res = res.sort_values(\"Date\", ascending = True)\n",
    "            res = res.drop_duplicates(subset = [\"Date\"])\n",
    "            res = res.reset_index(drop=True)\n",
    "            comp = df_prices_test[df_prices_test['Date'].isin(res['Date'].values)]\n",
    "            comp = comp.sort_values(\"Date\", ascending = True)\n",
    "            comp = comp.reset_index(drop=True)\n",
    "            \n",
    "            print('metrics - mlflow')\n",
    "            row = {'lookback':config['lookback'],\n",
    "                   'lookforward':config['lookforward'],\n",
    "                   'hidden_dim':config['hidden_dim'],\n",
    "                   'bidirectional':config['bidirectional'],\n",
    "                   'TEST_MAPE':value_mape(comp, res, ['Open', 'High', 'Low', 'Close']),\n",
    "                   'TEST_PER_CHANGE_MAPE':per_change_mape(res, comp, ['Open', 'High', 'Low', 'Close']),\n",
    "                   'ACC_DAILY_TEND_DIR':acc_daily_trend_direction(comp, res, ['Open', 'High', 'Low', 'Close']),\n",
    "                   'ACC_WEEKLY_TEND_DIR':acc_weekly_trend_direction(comp, res, ['Open', 'High', 'Low', 'Close']),\n",
    "                   'ACC_MONTHLY_TEND_DIR':acc_monthly_trend_direction(comp, res, ['Open', 'High', 'Low', 'Close']),\n",
    "                   'MEAN_FORECAST_ERROR':mean_forecast_error(comp,res, ['Open', 'High', 'Low', 'Close'])}\n",
    "            result = result.append(row, ignore_index = True)\n",
    "            \n",
    "            if mlflow_active:\n",
    "                mlflow.set_experiment('gaivota-python-market-sentiment-analysis-lstm')\n",
    "                mlflow.start_run()\n",
    "                mlflow.log_params(config)\n",
    "                for t in range(config['num_epochs']):            \n",
    "                    mlflow.log_metrics({'TRAIN_LOSS':hist_train[t]}, step = t)\n",
    "                    mlflow.log_metrics({'VAL_LOSS':hist_val[t]}, step = t)\n",
    "                for col in  ['Open', 'High', 'Low', 'Close']:\n",
    "                    mlflow.log_metric('TEST_MAPE_{}'.format(col), row['TEST_MAPE'][col])\n",
    "                    mlflow.log_metric('TEST_PER_CHANGE_MAPE_{}'.format(col), row['TEST_PER_CHANGE_MAPE'][col])\n",
    "                    mlflow.log_metric('TEST_ACC_DAILY_TEND_DIR_{}'.format(col), row['ACC_DAILY_TEND_DIR'][col])\n",
    "                    mlflow.log_metric('TEST_ACC_WEEKLY_TEND_DIR_{}'.format(col), row['ACC_WEEKLY_TEND_DIR'][col])\n",
    "                    mlflow.log_metric('TEST_ACC_MONTHLY_TEND_DIR_{}'.format(col), row['ACC_MONTHLY_TEND_DIR'][col])\n",
    "                    mlflow.log_metric('TEST_MEAN_FORECAST_ERROR_{}'.format(col), row['MEAN_FORECAST_ERROR'][col])\n",
    "                mlflow.end_run()\n",
    "            print(\"{}: {} - {}\".format(base_name, row['TEST_PER_CHANGE_MAPE'], row['ACC_DAILY_TEND_DIR']),)\n",
    "            print(\"--------------------------------------------------------------------------------\")"
   ]
  },
  {
   "cell_type": "markdown",
   "metadata": {},
   "source": [
    "----------------------------"
   ]
  }
 ],
 "metadata": {
  "kernelspec": {
   "display_name": "Python 3",
   "language": "python",
   "name": "python3"
  },
  "language_info": {
   "codemirror_mode": {
    "name": "ipython",
    "version": 3
   },
   "file_extension": ".py",
   "mimetype": "text/x-python",
   "name": "python",
   "nbconvert_exporter": "python",
   "pygments_lexer": "ipython3",
   "version": "3.6.9"
  }
 },
 "nbformat": 4,
 "nbformat_minor": 4
}
