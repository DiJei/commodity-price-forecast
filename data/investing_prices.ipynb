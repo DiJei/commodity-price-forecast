{
 "cells": [
  {
   "cell_type": "code",
   "execution_count": 1,
   "metadata": {},
   "outputs": [],
   "source": [
    "import pandas as pd\n",
    "import numpy as np\n",
    "import re\n",
    "import matplotlib.pyplot as plt\n",
    "from matplotlib import font_manager as fm\n",
    "import seaborn as sns\n",
    "sns.set_theme()"
   ]
  },
  {
   "cell_type": "code",
   "execution_count": 2,
   "metadata": {},
   "outputs": [],
   "source": [
    "import time\n",
    "import folium\n",
    "import folium.plugins\n",
    "import geopandas as gpd"
   ]
  },
  {
   "cell_type": "code",
   "execution_count": 3,
   "metadata": {},
   "outputs": [],
   "source": [
    "#!pip install investpy\n",
    "#!pip install git+https://github.com/alvarobartt/investpy.git@master"
   ]
  },
  {
   "cell_type": "code",
   "execution_count": 4,
   "metadata": {},
   "outputs": [],
   "source": [
    "# investing\n",
    "import investpy"
   ]
  },
  {
   "cell_type": "code",
   "execution_count": 5,
   "metadata": {},
   "outputs": [],
   "source": [
    "from ipywidgets import interact, interactive, fixed, interact_manual, Dropdown, DatePicker, FloatText"
   ]
  },
  {
   "cell_type": "markdown",
   "metadata": {},
   "source": [
    "# Busca preço da bolsa"
   ]
  },
  {
   "cell_type": "code",
   "execution_count": 8,
   "metadata": {},
   "outputs": [],
   "source": [
    "df_comm = investpy.get_commodities()\n",
    "df_comm = df_comm.dropna()"
   ]
  },
  {
   "cell_type": "code",
   "execution_count": 11,
   "metadata": {},
   "outputs": [],
   "source": [
    "comm_list = df_comm[\"name\"].unique().tolist()\n",
    "comm_country = df_comm[\"country\"].unique().tolist()"
   ]
  },
  {
   "cell_type": "markdown",
   "metadata": {},
   "source": [
    "## Preço ao longo do tempo"
   ]
  },
  {
   "cell_type": "code",
   "execution_count": 12,
   "metadata": {},
   "outputs": [],
   "source": [
    "def norm_date(date):\n",
    "    temp = date.split(\"-\")\n",
    "    day = temp[-1]\n",
    "    month = temp[1]\n",
    "    year = temp[0]\n",
    "    return \"{}/{}/{}\".format(day,month,year)"
   ]
  },
  {
   "cell_type": "code",
   "execution_count": 13,
   "metadata": {},
   "outputs": [],
   "source": [
    "def show_comm_mtm(comm, country,from_date,to_date):\n",
    "    try:\n",
    "        from_norm = norm_date(str(from_date))\n",
    "        to_norm = norm_date(str(to_date))\n",
    "        df = investpy.get_commodity_historical_data(comm,from_norm,to_norm, country)\n",
    "        plt.figure(figsize=(25,15))\n",
    "        plt.ylabel(df[\"Currency\"].value_counts().index.tolist()[0], fontsize = 20)\n",
    "        \n",
    "        plt.title('Preço de {} em {} entre {} até {}'.format(comm, country, from_norm, to_norm), fontsize = 30)\n",
    "        ax = sns.lineplot(data = df[[\"Open\",\"High\",\"Low\",\"Close\"]])\n",
    "        plt.setp(ax.get_legend().get_texts(), fontsize='22') # for legend text\n",
    "        plt.setp(ax.get_legend().get_title(), fontsize='32') # for legend title\n",
    "        plt.xticks(fontsize = 20)\n",
    "        plt.yticks(fontsize = 20)\n",
    "        plt.show()\n",
    "        return df\n",
    "    except:\n",
    "        print(\"No historic data for {} of {} between {} to {}\".format(comm, country,from_date,to_date))\n",
    "\n",
    "interactive_plot = interactive(show_comm_mtm, comm = comm_list, country = comm_country, from_date = DatePicker(), to_date = DatePicker())"
   ]
  },
  {
   "cell_type": "code",
   "execution_count": 14,
   "metadata": {},
   "outputs": [
    {
     "data": {
      "application/vnd.jupyter.widget-view+json": {
       "model_id": "1acc5f5794464e1aa418a08118c10217",
       "version_major": 2,
       "version_minor": 0
      },
      "text/plain": [
       "interactive(children=(Dropdown(description='comm', options=('Gold', 'Copper', 'Silver', 'Palladium', 'Platinum…"
      ]
     },
     "metadata": {},
     "output_type": "display_data"
    }
   ],
   "source": [
    "interactive_plot"
   ]
  },
  {
   "cell_type": "code",
   "execution_count": 20,
   "metadata": {},
   "outputs": [
    {
     "name": "stdout",
     "output_type": "stream",
     "text": [
      "<class 'pandas.core.frame.DataFrame'>\n",
      "DatetimeIndex: 287 entries, 2020-01-01 to 2020-12-31\n",
      "Data columns (total 6 columns):\n",
      " #   Column    Non-Null Count  Dtype  \n",
      "---  ------    --------------  -----  \n",
      " 0   Open      287 non-null    float64\n",
      " 1   High      287 non-null    float64\n",
      " 2   Low       287 non-null    float64\n",
      " 3   Close     287 non-null    float64\n",
      " 4   Volume    287 non-null    int64  \n",
      " 5   Currency  287 non-null    object \n",
      "dtypes: float64(4), int64(1), object(1)\n",
      "memory usage: 15.7+ KB\n"
     ]
    }
   ],
   "source": [
    "## Base\n",
    "base = interactive_plot.result\n",
    "base.info()"
   ]
  },
  {
   "cell_type": "code",
   "execution_count": 21,
   "metadata": {},
   "outputs": [
    {
     "data": {
      "text/html": [
       "<div>\n",
       "<style scoped>\n",
       "    .dataframe tbody tr th:only-of-type {\n",
       "        vertical-align: middle;\n",
       "    }\n",
       "\n",
       "    .dataframe tbody tr th {\n",
       "        vertical-align: top;\n",
       "    }\n",
       "\n",
       "    .dataframe thead th {\n",
       "        text-align: right;\n",
       "    }\n",
       "</style>\n",
       "<table border=\"1\" class=\"dataframe\">\n",
       "  <thead>\n",
       "    <tr style=\"text-align: right;\">\n",
       "      <th></th>\n",
       "      <th>count</th>\n",
       "      <th>mean</th>\n",
       "      <th>std</th>\n",
       "      <th>min</th>\n",
       "      <th>25%</th>\n",
       "      <th>50%</th>\n",
       "      <th>75%</th>\n",
       "      <th>max</th>\n",
       "    </tr>\n",
       "  </thead>\n",
       "  <tbody>\n",
       "    <tr>\n",
       "      <th>Open</th>\n",
       "      <td>287.0</td>\n",
       "      <td>949.060070</td>\n",
       "      <td>117.496369</td>\n",
       "      <td>824.88</td>\n",
       "      <td>867.880</td>\n",
       "      <td>896.12</td>\n",
       "      <td>1020.06</td>\n",
       "      <td>1297.25</td>\n",
       "    </tr>\n",
       "    <tr>\n",
       "      <th>High</th>\n",
       "      <td>287.0</td>\n",
       "      <td>956.378188</td>\n",
       "      <td>119.979670</td>\n",
       "      <td>832.50</td>\n",
       "      <td>871.880</td>\n",
       "      <td>900.50</td>\n",
       "      <td>1033.13</td>\n",
       "      <td>1320.60</td>\n",
       "    </tr>\n",
       "    <tr>\n",
       "      <th>Low</th>\n",
       "      <td>287.0</td>\n",
       "      <td>943.401777</td>\n",
       "      <td>116.385273</td>\n",
       "      <td>808.38</td>\n",
       "      <td>863.125</td>\n",
       "      <td>891.38</td>\n",
       "      <td>1014.63</td>\n",
       "      <td>1295.62</td>\n",
       "    </tr>\n",
       "    <tr>\n",
       "      <th>Close</th>\n",
       "      <td>287.0</td>\n",
       "      <td>950.119791</td>\n",
       "      <td>118.925678</td>\n",
       "      <td>824.62</td>\n",
       "      <td>868.060</td>\n",
       "      <td>896.50</td>\n",
       "      <td>1021.13</td>\n",
       "      <td>1310.25</td>\n",
       "    </tr>\n",
       "    <tr>\n",
       "      <th>Volume</th>\n",
       "      <td>287.0</td>\n",
       "      <td>0.000000</td>\n",
       "      <td>0.000000</td>\n",
       "      <td>0.00</td>\n",
       "      <td>0.000</td>\n",
       "      <td>0.00</td>\n",
       "      <td>0.00</td>\n",
       "      <td>0.00</td>\n",
       "    </tr>\n",
       "  </tbody>\n",
       "</table>\n",
       "</div>"
      ],
      "text/plain": [
       "        count        mean         std     min      25%     50%      75%  \\\n",
       "Open    287.0  949.060070  117.496369  824.88  867.880  896.12  1020.06   \n",
       "High    287.0  956.378188  119.979670  832.50  871.880  900.50  1033.13   \n",
       "Low     287.0  943.401777  116.385273  808.38  863.125  891.38  1014.63   \n",
       "Close   287.0  950.119791  118.925678  824.62  868.060  896.50  1021.13   \n",
       "Volume  287.0    0.000000    0.000000    0.00    0.000    0.00     0.00   \n",
       "\n",
       "            max  \n",
       "Open    1297.25  \n",
       "High    1320.60  \n",
       "Low     1295.62  \n",
       "Close   1310.25  \n",
       "Volume     0.00  "
      ]
     },
     "execution_count": 21,
     "metadata": {},
     "output_type": "execute_result"
    }
   ],
   "source": [
    "base.describe().transpose()"
   ]
  },
  {
   "cell_type": "code",
   "execution_count": 22,
   "metadata": {},
   "outputs": [
    {
     "data": {
      "text/html": [
       "<div>\n",
       "<style scoped>\n",
       "    .dataframe tbody tr th:only-of-type {\n",
       "        vertical-align: middle;\n",
       "    }\n",
       "\n",
       "    .dataframe tbody tr th {\n",
       "        vertical-align: top;\n",
       "    }\n",
       "\n",
       "    .dataframe thead th {\n",
       "        text-align: right;\n",
       "    }\n",
       "</style>\n",
       "<table border=\"1\" class=\"dataframe\">\n",
       "  <thead>\n",
       "    <tr style=\"text-align: right;\">\n",
       "      <th></th>\n",
       "      <th>Open</th>\n",
       "      <th>High</th>\n",
       "      <th>Low</th>\n",
       "      <th>Close</th>\n",
       "      <th>Volume</th>\n",
       "      <th>Currency</th>\n",
       "    </tr>\n",
       "    <tr>\n",
       "      <th>Date</th>\n",
       "      <th></th>\n",
       "      <th></th>\n",
       "      <th></th>\n",
       "      <th></th>\n",
       "      <th></th>\n",
       "      <th></th>\n",
       "    </tr>\n",
       "  </thead>\n",
       "  <tbody>\n",
       "    <tr>\n",
       "      <th>2020-01-01</th>\n",
       "      <td>943.50</td>\n",
       "      <td>943.50</td>\n",
       "      <td>943.50</td>\n",
       "      <td>943.50</td>\n",
       "      <td>0</td>\n",
       "      <td>USD</td>\n",
       "    </tr>\n",
       "    <tr>\n",
       "      <th>2020-01-02</th>\n",
       "      <td>939.62</td>\n",
       "      <td>949.12</td>\n",
       "      <td>936.12</td>\n",
       "      <td>943.25</td>\n",
       "      <td>0</td>\n",
       "      <td>USD</td>\n",
       "    </tr>\n",
       "    <tr>\n",
       "      <th>2020-01-03</th>\n",
       "      <td>943.25</td>\n",
       "      <td>945.38</td>\n",
       "      <td>926.75</td>\n",
       "      <td>929.75</td>\n",
       "      <td>0</td>\n",
       "      <td>USD</td>\n",
       "    </tr>\n",
       "    <tr>\n",
       "      <th>2020-01-05</th>\n",
       "      <td>928.75</td>\n",
       "      <td>928.75</td>\n",
       "      <td>927.62</td>\n",
       "      <td>927.62</td>\n",
       "      <td>0</td>\n",
       "      <td>USD</td>\n",
       "    </tr>\n",
       "    <tr>\n",
       "      <th>2020-01-06</th>\n",
       "      <td>929.00</td>\n",
       "      <td>936.62</td>\n",
       "      <td>928.62</td>\n",
       "      <td>932.50</td>\n",
       "      <td>0</td>\n",
       "      <td>USD</td>\n",
       "    </tr>\n",
       "    <tr>\n",
       "      <th>...</th>\n",
       "      <td>...</td>\n",
       "      <td>...</td>\n",
       "      <td>...</td>\n",
       "      <td>...</td>\n",
       "      <td>...</td>\n",
       "      <td>...</td>\n",
       "    </tr>\n",
       "    <tr>\n",
       "      <th>2020-12-27</th>\n",
       "      <td>1265.25</td>\n",
       "      <td>1265.25</td>\n",
       "      <td>1264.40</td>\n",
       "      <td>1264.40</td>\n",
       "      <td>0</td>\n",
       "      <td>USD</td>\n",
       "    </tr>\n",
       "    <tr>\n",
       "      <th>2020-12-28</th>\n",
       "      <td>1274.88</td>\n",
       "      <td>1280.10</td>\n",
       "      <td>1246.88</td>\n",
       "      <td>1253.75</td>\n",
       "      <td>0</td>\n",
       "      <td>USD</td>\n",
       "    </tr>\n",
       "    <tr>\n",
       "      <th>2020-12-29</th>\n",
       "      <td>1255.12</td>\n",
       "      <td>1299.38</td>\n",
       "      <td>1246.38</td>\n",
       "      <td>1299.25</td>\n",
       "      <td>0</td>\n",
       "      <td>USD</td>\n",
       "    </tr>\n",
       "    <tr>\n",
       "      <th>2020-12-30</th>\n",
       "      <td>1294.88</td>\n",
       "      <td>1305.90</td>\n",
       "      <td>1280.25</td>\n",
       "      <td>1297.00</td>\n",
       "      <td>0</td>\n",
       "      <td>USD</td>\n",
       "    </tr>\n",
       "    <tr>\n",
       "      <th>2020-12-31</th>\n",
       "      <td>1297.25</td>\n",
       "      <td>1320.60</td>\n",
       "      <td>1295.62</td>\n",
       "      <td>1310.25</td>\n",
       "      <td>0</td>\n",
       "      <td>USD</td>\n",
       "    </tr>\n",
       "  </tbody>\n",
       "</table>\n",
       "<p>287 rows × 6 columns</p>\n",
       "</div>"
      ],
      "text/plain": [
       "               Open     High      Low    Close  Volume Currency\n",
       "Date                                                           \n",
       "2020-01-01   943.50   943.50   943.50   943.50       0      USD\n",
       "2020-01-02   939.62   949.12   936.12   943.25       0      USD\n",
       "2020-01-03   943.25   945.38   926.75   929.75       0      USD\n",
       "2020-01-05   928.75   928.75   927.62   927.62       0      USD\n",
       "2020-01-06   929.00   936.62   928.62   932.50       0      USD\n",
       "...             ...      ...      ...      ...     ...      ...\n",
       "2020-12-27  1265.25  1265.25  1264.40  1264.40       0      USD\n",
       "2020-12-28  1274.88  1280.10  1246.88  1253.75       0      USD\n",
       "2020-12-29  1255.12  1299.38  1246.38  1299.25       0      USD\n",
       "2020-12-30  1294.88  1305.90  1280.25  1297.00       0      USD\n",
       "2020-12-31  1297.25  1320.60  1295.62  1310.25       0      USD\n",
       "\n",
       "[287 rows x 6 columns]"
      ]
     },
     "execution_count": 22,
     "metadata": {},
     "output_type": "execute_result"
    }
   ],
   "source": [
    "base"
   ]
  },
  {
   "cell_type": "code",
   "execution_count": null,
   "metadata": {},
   "outputs": [],
   "source": [
    "base.to_csv('price_file_name.csv', index = None)"
   ]
  }
 ],
 "metadata": {
  "kernelspec": {
   "display_name": "Python 3",
   "language": "python",
   "name": "python3"
  },
  "language_info": {
   "codemirror_mode": {
    "name": "ipython",
    "version": 3
   },
   "file_extension": ".py",
   "mimetype": "text/x-python",
   "name": "python",
   "nbconvert_exporter": "python",
   "pygments_lexer": "ipython3",
   "version": "3.6.9"
  }
 },
 "nbformat": 4,
 "nbformat_minor": 4
}
